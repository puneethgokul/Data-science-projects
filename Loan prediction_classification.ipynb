{
 "cells": [
  {
   "cell_type": "code",
   "execution_count": 480,
   "metadata": {},
   "outputs": [],
   "source": [
    "import numpy as np # linear algebra\n",
    "import pandas as pd # data processing, CSV file I/O (e.g. pd.read_csv)\n",
    "import matplotlib.pyplot as plt       # matplotlib.pyplot plots data\n",
    "%matplotlib inline \n",
    "import seaborn as sns\n"
   ]
  },
  {
   "cell_type": "code",
   "execution_count": 481,
   "metadata": {},
   "outputs": [],
   "source": [
    "df_train= pd.read_csv('train_ctrUa4K.csv')\n",
    "df_test= pd.read_csv('test_lAUu6dG.csv')"
   ]
  },
  {
   "cell_type": "code",
   "execution_count": 482,
   "metadata": {},
   "outputs": [
    {
     "data": {
      "text/html": [
       "<div>\n",
       "<style scoped>\n",
       "    .dataframe tbody tr th:only-of-type {\n",
       "        vertical-align: middle;\n",
       "    }\n",
       "\n",
       "    .dataframe tbody tr th {\n",
       "        vertical-align: top;\n",
       "    }\n",
       "\n",
       "    .dataframe thead th {\n",
       "        text-align: right;\n",
       "    }\n",
       "</style>\n",
       "<table border=\"1\" class=\"dataframe\">\n",
       "  <thead>\n",
       "    <tr style=\"text-align: right;\">\n",
       "      <th></th>\n",
       "      <th>Loan_ID</th>\n",
       "      <th>Gender</th>\n",
       "      <th>Married</th>\n",
       "      <th>Dependents</th>\n",
       "      <th>Education</th>\n",
       "      <th>Self_Employed</th>\n",
       "      <th>ApplicantIncome</th>\n",
       "      <th>CoapplicantIncome</th>\n",
       "      <th>LoanAmount</th>\n",
       "      <th>Loan_Amount_Term</th>\n",
       "      <th>Credit_History</th>\n",
       "      <th>Property_Area</th>\n",
       "      <th>Loan_Status</th>\n",
       "    </tr>\n",
       "  </thead>\n",
       "  <tbody>\n",
       "    <tr>\n",
       "      <th>0</th>\n",
       "      <td>LP001002</td>\n",
       "      <td>Male</td>\n",
       "      <td>No</td>\n",
       "      <td>0</td>\n",
       "      <td>Graduate</td>\n",
       "      <td>No</td>\n",
       "      <td>5849</td>\n",
       "      <td>0.0</td>\n",
       "      <td>NaN</td>\n",
       "      <td>360.0</td>\n",
       "      <td>1.0</td>\n",
       "      <td>Urban</td>\n",
       "      <td>Y</td>\n",
       "    </tr>\n",
       "    <tr>\n",
       "      <th>1</th>\n",
       "      <td>LP001003</td>\n",
       "      <td>Male</td>\n",
       "      <td>Yes</td>\n",
       "      <td>1</td>\n",
       "      <td>Graduate</td>\n",
       "      <td>No</td>\n",
       "      <td>4583</td>\n",
       "      <td>1508.0</td>\n",
       "      <td>128.0</td>\n",
       "      <td>360.0</td>\n",
       "      <td>1.0</td>\n",
       "      <td>Rural</td>\n",
       "      <td>N</td>\n",
       "    </tr>\n",
       "    <tr>\n",
       "      <th>2</th>\n",
       "      <td>LP001005</td>\n",
       "      <td>Male</td>\n",
       "      <td>Yes</td>\n",
       "      <td>0</td>\n",
       "      <td>Graduate</td>\n",
       "      <td>Yes</td>\n",
       "      <td>3000</td>\n",
       "      <td>0.0</td>\n",
       "      <td>66.0</td>\n",
       "      <td>360.0</td>\n",
       "      <td>1.0</td>\n",
       "      <td>Urban</td>\n",
       "      <td>Y</td>\n",
       "    </tr>\n",
       "    <tr>\n",
       "      <th>3</th>\n",
       "      <td>LP001006</td>\n",
       "      <td>Male</td>\n",
       "      <td>Yes</td>\n",
       "      <td>0</td>\n",
       "      <td>Not Graduate</td>\n",
       "      <td>No</td>\n",
       "      <td>2583</td>\n",
       "      <td>2358.0</td>\n",
       "      <td>120.0</td>\n",
       "      <td>360.0</td>\n",
       "      <td>1.0</td>\n",
       "      <td>Urban</td>\n",
       "      <td>Y</td>\n",
       "    </tr>\n",
       "    <tr>\n",
       "      <th>4</th>\n",
       "      <td>LP001008</td>\n",
       "      <td>Male</td>\n",
       "      <td>No</td>\n",
       "      <td>0</td>\n",
       "      <td>Graduate</td>\n",
       "      <td>No</td>\n",
       "      <td>6000</td>\n",
       "      <td>0.0</td>\n",
       "      <td>141.0</td>\n",
       "      <td>360.0</td>\n",
       "      <td>1.0</td>\n",
       "      <td>Urban</td>\n",
       "      <td>Y</td>\n",
       "    </tr>\n",
       "  </tbody>\n",
       "</table>\n",
       "</div>"
      ],
      "text/plain": [
       "    Loan_ID Gender Married Dependents     Education Self_Employed  \\\n",
       "0  LP001002   Male      No          0      Graduate            No   \n",
       "1  LP001003   Male     Yes          1      Graduate            No   \n",
       "2  LP001005   Male     Yes          0      Graduate           Yes   \n",
       "3  LP001006   Male     Yes          0  Not Graduate            No   \n",
       "4  LP001008   Male      No          0      Graduate            No   \n",
       "\n",
       "   ApplicantIncome  CoapplicantIncome  LoanAmount  Loan_Amount_Term  \\\n",
       "0             5849                0.0         NaN             360.0   \n",
       "1             4583             1508.0       128.0             360.0   \n",
       "2             3000                0.0        66.0             360.0   \n",
       "3             2583             2358.0       120.0             360.0   \n",
       "4             6000                0.0       141.0             360.0   \n",
       "\n",
       "   Credit_History Property_Area Loan_Status  \n",
       "0             1.0         Urban           Y  \n",
       "1             1.0         Rural           N  \n",
       "2             1.0         Urban           Y  \n",
       "3             1.0         Urban           Y  \n",
       "4             1.0         Urban           Y  "
      ]
     },
     "execution_count": 482,
     "metadata": {},
     "output_type": "execute_result"
    }
   ],
   "source": [
    "df_train.head(5)"
   ]
  },
  {
   "cell_type": "code",
   "execution_count": 483,
   "metadata": {},
   "outputs": [
    {
     "name": "stdout",
     "output_type": "stream",
     "text": [
      "<class 'pandas.core.frame.DataFrame'>\n",
      "RangeIndex: 614 entries, 0 to 613\n",
      "Data columns (total 13 columns):\n",
      "Loan_ID              614 non-null object\n",
      "Gender               601 non-null object\n",
      "Married              611 non-null object\n",
      "Dependents           599 non-null object\n",
      "Education            614 non-null object\n",
      "Self_Employed        582 non-null object\n",
      "ApplicantIncome      614 non-null int64\n",
      "CoapplicantIncome    614 non-null float64\n",
      "LoanAmount           592 non-null float64\n",
      "Loan_Amount_Term     600 non-null float64\n",
      "Credit_History       564 non-null float64\n",
      "Property_Area        614 non-null object\n",
      "Loan_Status          614 non-null object\n",
      "dtypes: float64(4), int64(1), object(8)\n",
      "memory usage: 62.4+ KB\n",
      "None\n",
      "<class 'pandas.core.frame.DataFrame'>\n",
      "RangeIndex: 367 entries, 0 to 366\n",
      "Data columns (total 12 columns):\n",
      "Loan_ID              367 non-null object\n",
      "Gender               356 non-null object\n",
      "Married              367 non-null object\n",
      "Dependents           357 non-null object\n",
      "Education            367 non-null object\n",
      "Self_Employed        344 non-null object\n",
      "ApplicantIncome      367 non-null int64\n",
      "CoapplicantIncome    367 non-null int64\n",
      "LoanAmount           362 non-null float64\n",
      "Loan_Amount_Term     361 non-null float64\n",
      "Credit_History       338 non-null float64\n",
      "Property_Area        367 non-null object\n",
      "dtypes: float64(3), int64(2), object(7)\n",
      "memory usage: 34.5+ KB\n",
      "None\n"
     ]
    },
    {
     "data": {
      "text/plain": [
       "(None, None)"
      ]
     },
     "execution_count": 483,
     "metadata": {},
     "output_type": "execute_result"
    }
   ],
   "source": [
    "print(df_train.info()), print(df_test.info())"
   ]
  },
  {
   "cell_type": "markdown",
   "metadata": {},
   "source": [
    "Handling missing values"
   ]
  },
  {
   "cell_type": "code",
   "execution_count": 484,
   "metadata": {
    "scrolled": false
   },
   "outputs": [
    {
     "name": "stdout",
     "output_type": "stream",
     "text": [
      "Loan_ID               0\n",
      "Gender               13\n",
      "Married               3\n",
      "Dependents           15\n",
      "Education             0\n",
      "Self_Employed        32\n",
      "ApplicantIncome       0\n",
      "CoapplicantIncome     0\n",
      "LoanAmount           22\n",
      "Loan_Amount_Term     14\n",
      "Credit_History       50\n",
      "Property_Area         0\n",
      "Loan_Status           0\n",
      "dtype: int64\n",
      "Loan_ID               0\n",
      "Gender               11\n",
      "Married               0\n",
      "Dependents           10\n",
      "Education             0\n",
      "Self_Employed        23\n",
      "ApplicantIncome       0\n",
      "CoapplicantIncome     0\n",
      "LoanAmount            5\n",
      "Loan_Amount_Term      6\n",
      "Credit_History       29\n",
      "Property_Area         0\n",
      "dtype: int64\n"
     ]
    },
    {
     "data": {
      "text/plain": [
       "(None, None)"
      ]
     },
     "execution_count": 484,
     "metadata": {},
     "output_type": "execute_result"
    }
   ],
   "source": [
    "print(df_train.isnull().sum()), print(df_test.isnull().sum()) "
   ]
  },
  {
   "cell_type": "code",
   "execution_count": 485,
   "metadata": {},
   "outputs": [
    {
     "data": {
      "image/png": "[encoded data removed]",
      "text/plain": [
       "<matplotlib.figure.Figure at 0x1c46ca4ccc0>"
      ]
     },
     "metadata": {},
     "output_type": "display_data"
    }
   ],
   "source": [
    "plt.subplot(1,2,1)\n",
    "sns.heatmap(df_train.isnull(), yticklabels=False, cbar=False, cmap='viridis')\n",
    "\n",
    "plt.subplot(1,2,2)\n",
    "sns.heatmap(df_test.isnull(), yticklabels=False, cbar=False, cmap='viridis')\n",
    "\n",
    "plt.tight_layout()"
   ]
  },
  {
   "cell_type": "markdown",
   "metadata": {},
   "source": [
    "Gender column"
   ]
  },
  {
   "cell_type": "code",
   "execution_count": 486,
   "metadata": {},
   "outputs": [
    {
     "data": {
      "image/png": "[encoded data removed]",
      "text/plain": [
       "<matplotlib.figure.Figure at 0x1c46c7342b0>"
      ]
     },
     "metadata": {},
     "output_type": "display_data"
    }
   ],
   "source": [
    "plt.subplot(1,2,1)\n",
    "sns.countplot(df_train['Gender'])\n",
    "\n",
    "plt.subplot(1,2,2)\n",
    "sns.countplot(df_test['Gender'])\n",
    "\n",
    "plt.tight_layout()"
   ]
  },
  {
   "cell_type": "code",
   "execution_count": 487,
   "metadata": {},
   "outputs": [
    {
     "name": "stdout",
     "output_type": "stream",
     "text": [
      "Male      489\n",
      "Female    112\n",
      "Name: Gender, dtype: int64    missing value count is 13\n",
      " \n",
      "Male      286\n",
      "Female     70\n",
      "Name: Gender, dtype: int64    missing value count is 11\n"
     ]
    }
   ],
   "source": [
    "print(df_train['Gender'].value_counts() ,\"  \" , \"missing value count is {}\".format(df_train['Gender'].isnull().sum()))\n",
    "print(\" \")\n",
    "print( df_test['Gender'].value_counts(), \"  \" , \"missing value count is {}\".format(df_test['Gender'].isnull().sum()))"
   ]
  },
  {
   "cell_type": "code",
   "execution_count": 488,
   "metadata": {},
   "outputs": [],
   "source": [
    "data = [df_train, df_test]\n",
    "\n",
    "for dataset in data:\n",
    "    dataset['Gender'] = dataset['Gender'].fillna('Male')"
   ]
  },
  {
   "cell_type": "markdown",
   "metadata": {},
   "source": [
    "Married column"
   ]
  },
  {
   "cell_type": "code",
   "execution_count": 489,
   "metadata": {},
   "outputs": [
    {
     "data": {
      "image/png": "[encoded data removed]",
      "text/plain": [
       "<matplotlib.figure.Figure at 0x1c46ca5a048>"
      ]
     },
     "metadata": {},
     "output_type": "display_data"
    }
   ],
   "source": [
    "plt.subplot(1,2,1)\n",
    "sns.countplot(df_train['Married'])\n",
    "\n",
    "plt.subplot(1,2,2)\n",
    "sns.countplot(df_test['Married'])\n",
    "\n",
    "plt.tight_layout()"
   ]
  },
  {
   "cell_type": "code",
   "execution_count": 490,
   "metadata": {},
   "outputs": [
    {
     "name": "stdout",
     "output_type": "stream",
     "text": [
      "Yes    398\n",
      "No     213\n",
      "Name: Married, dtype: int64    missing value count is 3\n",
      " \n",
      "Yes    233\n",
      "No     134\n",
      "Name: Married, dtype: int64    missing value count is 0\n"
     ]
    }
   ],
   "source": [
    "print(df_train['Married'].value_counts() ,\"  \" , \"missing value count is {}\".format(df_train['Married'].isnull().sum()))\n",
    "print(\" \")\n",
    "print( df_test['Married'].value_counts(), \"  \" , \"missing value count is {}\".format(df_test['Married'].isnull().sum()))"
   ]
  },
  {
   "cell_type": "code",
   "execution_count": 491,
   "metadata": {},
   "outputs": [],
   "source": [
    "data = [df_train, df_test]\n",
    "\n",
    "for dataset in data:\n",
    "    dataset['Married'] = dataset['Married'].fillna('Yes')"
   ]
  },
  {
   "cell_type": "markdown",
   "metadata": {},
   "source": [
    "Dependents column"
   ]
  },
  {
   "cell_type": "code",
   "execution_count": 492,
   "metadata": {},
   "outputs": [
    {
     "data": {
      "image/png": "[encoded data removed]",
      "text/plain": [
       "<matplotlib.figure.Figure at 0x1c46cf73080>"
      ]
     },
     "metadata": {},
     "output_type": "display_data"
    }
   ],
   "source": [
    "plt.subplot(1,2,1)\n",
    "sns.countplot(df_train['Dependents'])\n",
    "\n",
    "plt.subplot(1,2,2)\n",
    "sns.countplot(df_test['Dependents'])\n",
    "\n",
    "plt.tight_layout()"
   ]
  },
  {
   "cell_type": "code",
   "execution_count": 493,
   "metadata": {},
   "outputs": [
    {
     "name": "stdout",
     "output_type": "stream",
     "text": [
      "0     345\n",
      "1     102\n",
      "2     101\n",
      "3+     51\n",
      "Name: Dependents, dtype: int64    missing value count is 15\n",
      " \n",
      "0     200\n",
      "2      59\n",
      "1      58\n",
      "3+     40\n",
      "Name: Dependents, dtype: int64    missing value count is 10\n"
     ]
    }
   ],
   "source": [
    "print(df_train['Dependents'].value_counts() ,\"  \" , \"missing value count is {}\".format(df_train['Dependents'].isnull().sum()))\n",
    "print(\" \")\n",
    "print( df_test['Dependents'].value_counts(), \"  \" , \"missing value count is {}\".format(df_test['Dependents'].isnull().sum()))"
   ]
  },
  {
   "cell_type": "code",
   "execution_count": 494,
   "metadata": {},
   "outputs": [],
   "source": [
    "data = [df_train, df_test]\n",
    "\n",
    "for dataset in data:\n",
    "    dataset['Dependents'] = dataset['Dependents'].fillna(0)"
   ]
  },
  {
   "cell_type": "markdown",
   "metadata": {},
   "source": [
    "Education column"
   ]
  },
  {
   "cell_type": "code",
   "execution_count": 495,
   "metadata": {},
   "outputs": [
    {
     "data": {
      "image/png": "[encoded data removed]",
      "text/plain": [
       "<matplotlib.figure.Figure at 0x1c46cec70b8>"
      ]
     },
     "metadata": {},
     "output_type": "display_data"
    }
   ],
   "source": [
    "plt.subplot(1,2,1)\n",
    "sns.countplot(df_train['Education'])\n",
    "\n",
    "plt.subplot(1,2,2)\n",
    "sns.countplot(df_test['Education'])\n",
    "\n",
    "plt.tight_layout()"
   ]
  },
  {
   "cell_type": "code",
   "execution_count": 496,
   "metadata": {},
   "outputs": [
    {
     "name": "stdout",
     "output_type": "stream",
     "text": [
      "Graduate        480\n",
      "Not Graduate    134\n",
      "Name: Education, dtype: int64    missing value count is 0\n",
      " \n",
      "Graduate        283\n",
      "Not Graduate     84\n",
      "Name: Education, dtype: int64    missing value count is 0\n"
     ]
    }
   ],
   "source": [
    "print(df_train['Education'].value_counts() ,\"  \" , \"missing value count is {}\".format(df_train['Education'].isnull().sum()))\n",
    "print(\" \")\n",
    "print( df_test['Education'].value_counts(), \"  \" , \"missing value count is {}\".format(df_test['Education'].isnull().sum()))"
   ]
  },
  {
   "cell_type": "markdown",
   "metadata": {},
   "source": [
    "Self Employed column"
   ]
  },
  {
   "cell_type": "code",
   "execution_count": 497,
   "metadata": {},
   "outputs": [
    {
     "data": {
      "image/png": "[encoded data removed]",
      "text/plain": [
       "<matplotlib.figure.Figure at 0x1c46ca2fc18>"
      ]
     },
     "metadata": {},
     "output_type": "display_data"
    }
   ],
   "source": [
    "plt.subplot(1,2,1)\n",
    "sns.countplot(df_train['Self_Employed'])\n",
    "\n",
    "plt.subplot(1,2,2)\n",
    "sns.countplot(df_test['Self_Employed'])\n",
    "\n",
    "plt.tight_layout()"
   ]
  },
  {
   "cell_type": "code",
   "execution_count": 498,
   "metadata": {},
   "outputs": [
    {
     "name": "stdout",
     "output_type": "stream",
     "text": [
      "No     500\n",
      "Yes     82\n",
      "Name: Self_Employed, dtype: int64    missing value count is 32\n",
      " \n",
      "No     307\n",
      "Yes     37\n",
      "Name: Self_Employed, dtype: int64    missing value count is 23\n"
     ]
    }
   ],
   "source": [
    "print(df_train['Self_Employed'].value_counts() ,\"  \" , \"missing value count is {}\".format(df_train['Self_Employed'].isnull().sum()))\n",
    "print(\" \")\n",
    "print( df_test['Self_Employed'].value_counts(), \"  \" , \"missing value count is {}\".format(df_test['Self_Employed'].isnull().sum()))"
   ]
  },
  {
   "cell_type": "code",
   "execution_count": 499,
   "metadata": {},
   "outputs": [],
   "source": [
    "data = [df_train, df_test]\n",
    "\n",
    "for dataset in data:\n",
    "    dataset['Self_Employed'] = dataset['Self_Employed'].fillna('No')"
   ]
  },
  {
   "cell_type": "markdown",
   "metadata": {},
   "source": [
    "Loan_amount_term column"
   ]
  },
  {
   "cell_type": "code",
   "execution_count": 500,
   "metadata": {},
   "outputs": [
    {
     "data": {
      "image/png": "[encoded data removed]",
      "text/plain": [
       "<matplotlib.figure.Figure at 0x1c46cfb66a0>"
      ]
     },
     "metadata": {},
     "output_type": "display_data"
    }
   ],
   "source": [
    "plt.subplot(1,2,1)\n",
    "sns.countplot(df_train['Loan_Amount_Term'])\n",
    "\n",
    "plt.subplot(1,2,2)\n",
    "sns.countplot(df_test['Loan_Amount_Term'])\n",
    "\n",
    "plt.tight_layout()"
   ]
  },
  {
   "cell_type": "code",
   "execution_count": 501,
   "metadata": {},
   "outputs": [
    {
     "name": "stdout",
     "output_type": "stream",
     "text": [
      "360.0    512\n",
      "180.0     44\n",
      "480.0     15\n",
      "300.0     13\n",
      "84.0       4\n",
      "240.0      4\n",
      "120.0      3\n",
      "36.0       2\n",
      "60.0       2\n",
      "12.0       1\n",
      "Name: Loan_Amount_Term, dtype: int64    missing value count is 14\n",
      " \n",
      "360.0    311\n",
      "180.0     22\n",
      "480.0      8\n",
      "300.0      7\n",
      "240.0      4\n",
      "84.0       3\n",
      "6.0        1\n",
      "120.0      1\n",
      "36.0       1\n",
      "350.0      1\n",
      "12.0       1\n",
      "60.0       1\n",
      "Name: Loan_Amount_Term, dtype: int64    missing value count is 6\n"
     ]
    }
   ],
   "source": [
    "print(df_train['Loan_Amount_Term'].value_counts() ,\"  \" , \"missing value count is {}\".format(df_train['Loan_Amount_Term'].isnull().sum()))\n",
    "print(\" \")\n",
    "print( df_test['Loan_Amount_Term'].value_counts(), \"  \" , \"missing value count is {}\".format(df_test['Loan_Amount_Term'].isnull().sum()))"
   ]
  },
  {
   "cell_type": "code",
   "execution_count": 502,
   "metadata": {},
   "outputs": [],
   "source": [
    "data = [df_train, df_test]\n",
    "\n",
    "for dataset in data:\n",
    "    dataset['Loan_Amount_Term'] = dataset['Loan_Amount_Term'].fillna(360)"
   ]
  },
  {
   "cell_type": "markdown",
   "metadata": {},
   "source": [
    "Credit History column"
   ]
  },
  {
   "cell_type": "code",
   "execution_count": 503,
   "metadata": {},
   "outputs": [
    {
     "data": {
      "image/png": "[encoded data removed]",
      "text/plain": [
       "<matplotlib.figure.Figure at 0x1c46f211470>"
      ]
     },
     "metadata": {},
     "output_type": "display_data"
    }
   ],
   "source": [
    "plt.subplot(1,2,1)\n",
    "sns.countplot(df_train['Credit_History'])\n",
    "\n",
    "plt.subplot(1,2,2)\n",
    "sns.countplot(df_test['Credit_History'])\n",
    "\n",
    "plt.tight_layout()"
   ]
  },
  {
   "cell_type": "code",
   "execution_count": 504,
   "metadata": {},
   "outputs": [
    {
     "name": "stdout",
     "output_type": "stream",
     "text": [
      "1.0    475\n",
      "0.0     89\n",
      "Name: Credit_History, dtype: int64    missing value count is 50\n",
      " \n",
      "1.0    279\n",
      "0.0     59\n",
      "Name: Credit_History, dtype: int64    missing value count is 29\n"
     ]
    }
   ],
   "source": [
    "print(df_train['Credit_History'].value_counts(), \"  \" , \"missing value count is {}\".format(df_train['Credit_History'].isnull().sum()))\n",
    "print(\" \")\n",
    "print( df_test['Credit_History'].value_counts(), \"  \" , \"missing value count is {}\".format(df_test['Credit_History'].isnull().sum()))"
   ]
  },
  {
   "cell_type": "code",
   "execution_count": 505,
   "metadata": {},
   "outputs": [],
   "source": [
    "data = [df_train, df_test]\n",
    "\n",
    "for dataset in data:\n",
    "    dataset['Credit_History'] = dataset['Credit_History'].fillna(1)"
   ]
  },
  {
   "cell_type": "markdown",
   "metadata": {},
   "source": [
    "Property_Area columns"
   ]
  },
  {
   "cell_type": "code",
   "execution_count": 506,
   "metadata": {},
   "outputs": [
    {
     "data": {
      "image/png": "[encoded data removed]",
      "text/plain": [
       "<matplotlib.figure.Figure at 0x1c46e4d6128>"
      ]
     },
     "metadata": {},
     "output_type": "display_data"
    }
   ],
   "source": [
    "plt.subplot(1,2,1)\n",
    "sns.countplot(df_train['Property_Area'])\n",
    "\n",
    "plt.subplot(1,2,2)\n",
    "sns.countplot(df_test['Property_Area'])\n",
    "\n",
    "plt.tight_layout()"
   ]
  },
  {
   "cell_type": "code",
   "execution_count": 507,
   "metadata": {},
   "outputs": [
    {
     "name": "stdout",
     "output_type": "stream",
     "text": [
      "Semiurban    233\n",
      "Urban        202\n",
      "Rural        179\n",
      "Name: Property_Area, dtype: int64    missing value count is 0\n",
      " \n",
      "Urban        140\n",
      "Semiurban    116\n",
      "Rural        111\n",
      "Name: Property_Area, dtype: int64    missing value count is 0\n"
     ]
    }
   ],
   "source": [
    "print(df_train['Property_Area'].value_counts(), \"  \" , \"missing value count is {}\".format(df_train['Property_Area'].isnull().sum()))\n",
    "print(\" \")\n",
    "print( df_test['Property_Area'].value_counts(), \"  \" , \"missing value count is {}\".format(df_test['Property_Area'].isnull().sum()))"
   ]
  },
  {
   "cell_type": "markdown",
   "metadata": {},
   "source": [
    "Loan amount column"
   ]
  },
  {
   "cell_type": "code",
   "execution_count": 508,
   "metadata": {},
   "outputs": [
    {
     "name": "stdout",
     "output_type": "stream",
     "text": [
      "missing value count is 22\n",
      " \n",
      "missing value count is 5\n"
     ]
    }
   ],
   "source": [
    "print(\"missing value count is {}\".format(df_train['LoanAmount'].isnull().sum()))\n",
    "print(\" \")\n",
    "print(\"missing value count is {}\".format(df_test['LoanAmount'].isnull().sum()))"
   ]
  },
  {
   "cell_type": "code",
   "execution_count": 509,
   "metadata": {},
   "outputs": [],
   "source": [
    "data = [df_train, df_test]\n",
    "\n",
    "for dataset in data:\n",
    "    dataset['LoanAmount'] = dataset['LoanAmount'].fillna(dataset['LoanAmount'].mean())"
   ]
  },
  {
   "cell_type": "code",
   "execution_count": 510,
   "metadata": {},
   "outputs": [
    {
     "data": {
      "image/png": "[encoded data removed]",
      "text/plain": [
       "<matplotlib.figure.Figure at 0x1c46cfb22b0>"
      ]
     },
     "metadata": {},
     "output_type": "display_data"
    }
   ],
   "source": [
    "plt.subplot(1,2,1)\n",
    "sns.distplot(df_train['ApplicantIncome'].dropna(), kde=False, bins=10)\n",
    "\n",
    "plt.subplot(1,2,2)\n",
    "sns.distplot(df_test['ApplicantIncome'].dropna(), kde=False, bins=10)\n",
    "\n",
    "plt.tight_layout()"
   ]
  },
  {
   "cell_type": "code",
   "execution_count": 511,
   "metadata": {},
   "outputs": [
    {
     "data": {
      "image/png": "[encoded data removed]",
      "text/plain": [
       "<matplotlib.figure.Figure at 0x1c46f2750b8>"
      ]
     },
     "metadata": {},
     "output_type": "display_data"
    }
   ],
   "source": [
    "plt.subplot(1,2,1)\n",
    "sns.distplot(df_train['CoapplicantIncome'].dropna(), kde=False, bins=10)\n",
    "\n",
    "plt.subplot(1,2,2)\n",
    "sns.distplot(df_test['CoapplicantIncome'].dropna(), kde=False, bins=10)\n",
    "\n",
    "plt.tight_layout()"
   ]
  },
  {
   "cell_type": "markdown",
   "metadata": {},
   "source": [
    "Data Preproccesing"
   ]
  },
  {
   "cell_type": "code",
   "execution_count": 512,
   "metadata": {},
   "outputs": [],
   "source": [
    "Gender_map = {\"Male\" : 0 ,\"Female\" : 1}\n",
    "Married_map = {\"Yes\" : 0 ,\"No\" : 1}\n",
    "Dependents_map = {0:0 ,\"0\": 0, \"1\" : 1, \"2\" : 2, \"3+\" : 3 }\n",
    "Education_map = {\"Graduate\" : 0 ,\"Not Graduate\" : 1}\n",
    "Self_Employed_map = {\"Yes\" : 0 ,\"No\" : 1}\n",
    "Property_Area_map = {\"Semiurban\" : 0 ,\"Urban\" : 1 ,\"Rural\" : 2}\n",
    "Loan_Status_map = {\"Y\" : 0 ,\"N\" : 1}\n",
    "\n",
    "data = [df_train, df_test]\n",
    "\n",
    "for dataset in data:\n",
    "    dataset['Gender'] = dataset['Gender'].map(Gender_map)\n",
    "    dataset['Married'] = dataset['Married'].map(Married_map)\n",
    "    dataset['Dependents'] = dataset['Dependents'].map(Dependents_map)\n",
    "    dataset['Education'] = dataset['Education'].map(Education_map)\n",
    "    dataset['Self_Employed'] = dataset['Self_Employed'].map(Self_Employed_map)\n",
    "    dataset['Property_Area'] = dataset['Property_Area'].map(Property_Area_map)\n",
    "    dataset['Credit_History']=dataset['Credit_History'].astype(int)\n",
    "    dataset['Loan_Amount_Term']=dataset['Loan_Amount_Term'].astype(int)\n",
    "\n",
    "df_train['Loan_Status'] = df_train['Loan_Status'].map(Loan_Status_map)"
   ]
  },
  {
   "cell_type": "markdown",
   "metadata": {},
   "source": [
    "ApplicantIncome and CoapplicantIncome columns"
   ]
  },
  {
   "cell_type": "code",
   "execution_count": 513,
   "metadata": {},
   "outputs": [],
   "source": [
    "df_train[\"Combined_Income\"] = df_train[\"ApplicantIncome\"] + df_train[\"CoapplicantIncome\"]\n",
    "\n",
    "df_test[\"Combined_Income\"] = df_test[\"ApplicantIncome\"] + df_test[\"CoapplicantIncome\"]"
   ]
  },
  {
   "cell_type": "code",
   "execution_count": 514,
   "metadata": {},
   "outputs": [],
   "source": [
    "df_train  =  df_train.drop([\"ApplicantIncome\",\"CoapplicantIncome\"], axis=1)\n",
    "\n",
    "df_test  =  df_test.drop([\"ApplicantIncome\",\"CoapplicantIncome\"], axis=1)"
   ]
  },
  {
   "cell_type": "code",
   "execution_count": 515,
   "metadata": {},
   "outputs": [
    {
     "data": {
      "image/png": "[encoded data removed]",
      "text/plain": [
       "<matplotlib.figure.Figure at 0x1c46d17e080>"
      ]
     },
     "metadata": {},
     "output_type": "display_data"
    }
   ],
   "source": [
    "plt.subplot(1,2,1)\n",
    "sns.distplot(df_train['Combined_Income'].dropna(), kde=False, bins=10)\n",
    "\n",
    "plt.subplot(1,2,2)\n",
    "sns.distplot(df_test['Combined_Income'].dropna(), kde=False, bins=10)\n",
    "\n",
    "plt.tight_layout()"
   ]
  },
  {
   "cell_type": "markdown",
   "metadata": {},
   "source": [
    "Loan amount Column"
   ]
  },
  {
   "cell_type": "code",
   "execution_count": 516,
   "metadata": {},
   "outputs": [
    {
     "data": {
      "text/plain": [
       "(164.75, 700.0]    154\n",
       "(100.25, 129.0]    154\n",
       "(8.999, 100.25]    154\n",
       "(129.0, 164.75]    152\n",
       "Name: LoanAmount, dtype: int64"
      ]
     },
     "execution_count": 516,
     "metadata": {},
     "output_type": "execute_result"
    }
   ],
   "source": [
    "pd.qcut(df_train['LoanAmount'], 4).value_counts()"
   ]
  },
  {
   "cell_type": "code",
   "execution_count": 517,
   "metadata": {},
   "outputs": [
    {
     "data": {
      "image/png": "[encoded data removed]",
      "text/plain": [
       "<matplotlib.figure.Figure at 0x1c46c97b518>"
      ]
     },
     "metadata": {},
     "output_type": "display_data"
    }
   ],
   "source": [
    "plt.subplot(1,2,1)\n",
    "sns.boxplot(df_train['LoanAmount'], orient=\"v\")\n",
    "\n",
    "plt.subplot(1,2,2)\n",
    "sns.boxplot(df_test['LoanAmount'], orient=\"v\")\n",
    "\n",
    "plt.tight_layout()"
   ]
  },
  {
   "cell_type": "code",
   "execution_count": 518,
   "metadata": {},
   "outputs": [],
   "source": [
    "data = [df_train, df_test]\n",
    "\n",
    "for dataset in data:\n",
    "    dataset.loc[(dataset['LoanAmount'] <= 100.25), 'LoanAmount' ] = 0\n",
    "    dataset.loc[(dataset['LoanAmount'] >= 100.25) & (dataset['LoanAmount'] <= 129.0), 'LoanAmount' ] = 1\n",
    "    dataset.loc[(dataset['LoanAmount'] >= 129.0) & (dataset['LoanAmount'] <= 164.75), 'LoanAmount' ] = 2\n",
    "    dataset.loc[(dataset['LoanAmount'] >= 164.75),  'LoanAmount' ] = 3\n",
    "    dataset['LoanAmount']=dataset['LoanAmount'].astype(int)"
   ]
  },
  {
   "cell_type": "markdown",
   "metadata": {},
   "source": [
    "Combined_Income Column"
   ]
  },
  {
   "cell_type": "code",
   "execution_count": 519,
   "metadata": {},
   "outputs": [
    {
     "data": {
      "text/plain": [
       "(9348.0, 81000.0]       103\n",
       "(1441.999, 3653.833]    103\n",
       "(6504.0, 9348.0]        102\n",
       "(5416.5, 6504.0]        102\n",
       "(4586.0, 5416.5]        102\n",
       "(3653.833, 4586.0]      102\n",
       "Name: Combined_Income, dtype: int64"
      ]
     },
     "execution_count": 519,
     "metadata": {},
     "output_type": "execute_result"
    }
   ],
   "source": [
    "pd.qcut(df_train['Combined_Income'], 6).value_counts()"
   ]
  },
  {
   "cell_type": "code",
   "execution_count": 520,
   "metadata": {},
   "outputs": [
    {
     "data": {
      "image/png": "[encoded data removed]",
      "text/plain": [
       "<matplotlib.figure.Figure at 0x1c46f32e240>"
      ]
     },
     "metadata": {},
     "output_type": "display_data"
    }
   ],
   "source": [
    "plt.subplot(1,2,1)\n",
    "sns.boxplot(df_train['Combined_Income'], orient=\"v\")\n",
    "\n",
    "plt.subplot(1,2,2)\n",
    "sns.boxplot(df_test['Combined_Income'], orient=\"v\")\n",
    "\n",
    "plt.tight_layout()"
   ]
  },
  {
   "cell_type": "code",
   "execution_count": 521,
   "metadata": {},
   "outputs": [],
   "source": [
    "data = [df_train, df_test]\n",
    "\n",
    "for dataset in data:\n",
    "    dataset.loc[(dataset['Combined_Income'] <= 3653.833), 'Combined_Income' ] = 0\n",
    "    dataset.loc[(dataset['Combined_Income'] >= 3653.833) & (dataset['Combined_Income'] <= 4586.0), 'Combined_Income' ] = 1\n",
    "    dataset.loc[(dataset['Combined_Income'] >= 4586.0) & (dataset['Combined_Income'] <= 5416.5), 'Combined_Income' ] = 2\n",
    "    dataset.loc[(dataset['Combined_Income'] >= 5416.5) & (dataset['Combined_Income'] <= 6504.0), 'Combined_Income' ] = 3\n",
    "    dataset.loc[(dataset['Combined_Income'] >= 6504.0) & (dataset['Combined_Income'] <= 9348.0), 'Combined_Income' ] = 4\n",
    "    dataset.loc[(dataset['Combined_Income'] >= 9348.0),  'Combined_Income' ] = 5\n",
    "    dataset['Combined_Income']=dataset['Combined_Income'].astype(int)"
   ]
  },
  {
   "cell_type": "code",
   "execution_count": 522,
   "metadata": {},
   "outputs": [
    {
     "data": {
      "text/html": [
       "<div>\n",
       "<style scoped>\n",
       "    .dataframe tbody tr th:only-of-type {\n",
       "        vertical-align: middle;\n",
       "    }\n",
       "\n",
       "    .dataframe tbody tr th {\n",
       "        vertical-align: top;\n",
       "    }\n",
       "\n",
       "    .dataframe thead th {\n",
       "        text-align: right;\n",
       "    }\n",
       "</style>\n",
       "<table border=\"1\" class=\"dataframe\">\n",
       "  <thead>\n",
       "    <tr style=\"text-align: right;\">\n",
       "      <th></th>\n",
       "      <th>Loan_ID</th>\n",
       "      <th>Gender</th>\n",
       "      <th>Married</th>\n",
       "      <th>Dependents</th>\n",
       "      <th>Education</th>\n",
       "      <th>Self_Employed</th>\n",
       "      <th>LoanAmount</th>\n",
       "      <th>Loan_Amount_Term</th>\n",
       "      <th>Credit_History</th>\n",
       "      <th>Property_Area</th>\n",
       "      <th>Loan_Status</th>\n",
       "      <th>Combined_Income</th>\n",
       "    </tr>\n",
       "  </thead>\n",
       "  <tbody>\n",
       "    <tr>\n",
       "      <th>0</th>\n",
       "      <td>LP001002</td>\n",
       "      <td>0</td>\n",
       "      <td>1</td>\n",
       "      <td>0</td>\n",
       "      <td>0</td>\n",
       "      <td>1</td>\n",
       "      <td>2</td>\n",
       "      <td>360</td>\n",
       "      <td>1</td>\n",
       "      <td>1</td>\n",
       "      <td>0</td>\n",
       "      <td>3</td>\n",
       "    </tr>\n",
       "    <tr>\n",
       "      <th>1</th>\n",
       "      <td>LP001003</td>\n",
       "      <td>0</td>\n",
       "      <td>0</td>\n",
       "      <td>1</td>\n",
       "      <td>0</td>\n",
       "      <td>1</td>\n",
       "      <td>1</td>\n",
       "      <td>360</td>\n",
       "      <td>1</td>\n",
       "      <td>2</td>\n",
       "      <td>1</td>\n",
       "      <td>3</td>\n",
       "    </tr>\n",
       "    <tr>\n",
       "      <th>2</th>\n",
       "      <td>LP001005</td>\n",
       "      <td>0</td>\n",
       "      <td>0</td>\n",
       "      <td>0</td>\n",
       "      <td>0</td>\n",
       "      <td>0</td>\n",
       "      <td>0</td>\n",
       "      <td>360</td>\n",
       "      <td>1</td>\n",
       "      <td>1</td>\n",
       "      <td>0</td>\n",
       "      <td>0</td>\n",
       "    </tr>\n",
       "    <tr>\n",
       "      <th>3</th>\n",
       "      <td>LP001006</td>\n",
       "      <td>0</td>\n",
       "      <td>0</td>\n",
       "      <td>0</td>\n",
       "      <td>1</td>\n",
       "      <td>1</td>\n",
       "      <td>1</td>\n",
       "      <td>360</td>\n",
       "      <td>1</td>\n",
       "      <td>1</td>\n",
       "      <td>0</td>\n",
       "      <td>2</td>\n",
       "    </tr>\n",
       "    <tr>\n",
       "      <th>4</th>\n",
       "      <td>LP001008</td>\n",
       "      <td>0</td>\n",
       "      <td>1</td>\n",
       "      <td>0</td>\n",
       "      <td>0</td>\n",
       "      <td>1</td>\n",
       "      <td>2</td>\n",
       "      <td>360</td>\n",
       "      <td>1</td>\n",
       "      <td>1</td>\n",
       "      <td>0</td>\n",
       "      <td>3</td>\n",
       "    </tr>\n",
       "    <tr>\n",
       "      <th>5</th>\n",
       "      <td>LP001011</td>\n",
       "      <td>0</td>\n",
       "      <td>0</td>\n",
       "      <td>2</td>\n",
       "      <td>0</td>\n",
       "      <td>0</td>\n",
       "      <td>3</td>\n",
       "      <td>360</td>\n",
       "      <td>1</td>\n",
       "      <td>1</td>\n",
       "      <td>0</td>\n",
       "      <td>5</td>\n",
       "    </tr>\n",
       "    <tr>\n",
       "      <th>6</th>\n",
       "      <td>LP001013</td>\n",
       "      <td>0</td>\n",
       "      <td>0</td>\n",
       "      <td>0</td>\n",
       "      <td>1</td>\n",
       "      <td>1</td>\n",
       "      <td>0</td>\n",
       "      <td>360</td>\n",
       "      <td>1</td>\n",
       "      <td>1</td>\n",
       "      <td>0</td>\n",
       "      <td>1</td>\n",
       "    </tr>\n",
       "    <tr>\n",
       "      <th>7</th>\n",
       "      <td>LP001014</td>\n",
       "      <td>0</td>\n",
       "      <td>0</td>\n",
       "      <td>3</td>\n",
       "      <td>0</td>\n",
       "      <td>1</td>\n",
       "      <td>2</td>\n",
       "      <td>360</td>\n",
       "      <td>0</td>\n",
       "      <td>0</td>\n",
       "      <td>1</td>\n",
       "      <td>3</td>\n",
       "    </tr>\n",
       "    <tr>\n",
       "      <th>8</th>\n",
       "      <td>LP001018</td>\n",
       "      <td>0</td>\n",
       "      <td>0</td>\n",
       "      <td>2</td>\n",
       "      <td>0</td>\n",
       "      <td>1</td>\n",
       "      <td>3</td>\n",
       "      <td>360</td>\n",
       "      <td>1</td>\n",
       "      <td>1</td>\n",
       "      <td>0</td>\n",
       "      <td>3</td>\n",
       "    </tr>\n",
       "    <tr>\n",
       "      <th>9</th>\n",
       "      <td>LP001020</td>\n",
       "      <td>0</td>\n",
       "      <td>0</td>\n",
       "      <td>1</td>\n",
       "      <td>0</td>\n",
       "      <td>1</td>\n",
       "      <td>3</td>\n",
       "      <td>360</td>\n",
       "      <td>1</td>\n",
       "      <td>0</td>\n",
       "      <td>1</td>\n",
       "      <td>5</td>\n",
       "    </tr>\n",
       "  </tbody>\n",
       "</table>\n",
       "</div>"
      ],
      "text/plain": [
       "    Loan_ID  Gender  Married  Dependents  Education  Self_Employed  \\\n",
       "0  LP001002       0        1           0          0              1   \n",
       "1  LP001003       0        0           1          0              1   \n",
       "2  LP001005       0        0           0          0              0   \n",
       "3  LP001006       0        0           0          1              1   \n",
       "4  LP001008       0        1           0          0              1   \n",
       "5  LP001011       0        0           2          0              0   \n",
       "6  LP001013       0        0           0          1              1   \n",
       "7  LP001014       0        0           3          0              1   \n",
       "8  LP001018       0        0           2          0              1   \n",
       "9  LP001020       0        0           1          0              1   \n",
       "\n",
       "   LoanAmount  Loan_Amount_Term  Credit_History  Property_Area  Loan_Status  \\\n",
       "0           2               360               1              1            0   \n",
       "1           1               360               1              2            1   \n",
       "2           0               360               1              1            0   \n",
       "3           1               360               1              1            0   \n",
       "4           2               360               1              1            0   \n",
       "5           3               360               1              1            0   \n",
       "6           0               360               1              1            0   \n",
       "7           2               360               0              0            1   \n",
       "8           3               360               1              1            0   \n",
       "9           3               360               1              0            1   \n",
       "\n",
       "   Combined_Income  \n",
       "0                3  \n",
       "1                3  \n",
       "2                0  \n",
       "3                2  \n",
       "4                3  \n",
       "5                5  \n",
       "6                1  \n",
       "7                3  \n",
       "8                3  \n",
       "9                5  "
      ]
     },
     "execution_count": 522,
     "metadata": {},
     "output_type": "execute_result"
    }
   ],
   "source": [
    "df_train.head(10)"
   ]
  },
  {
   "cell_type": "code",
   "execution_count": 523,
   "metadata": {},
   "outputs": [
    {
     "name": "stdout",
     "output_type": "stream",
     "text": [
      "<class 'pandas.core.frame.DataFrame'>\n",
      "RangeIndex: 614 entries, 0 to 613\n",
      "Data columns (total 12 columns):\n",
      "Loan_ID             614 non-null object\n",
      "Gender              614 non-null int64\n",
      "Married             614 non-null int64\n",
      "Dependents          614 non-null int64\n",
      "Education           614 non-null int64\n",
      "Self_Employed       614 non-null int64\n",
      "LoanAmount          614 non-null int32\n",
      "Loan_Amount_Term    614 non-null int32\n",
      "Credit_History      614 non-null int32\n",
      "Property_Area       614 non-null int64\n",
      "Loan_Status         614 non-null int64\n",
      "Combined_Income     614 non-null int32\n",
      "dtypes: int32(4), int64(7), object(1)\n",
      "memory usage: 48.0+ KB\n",
      "None\n",
      "<class 'pandas.core.frame.DataFrame'>\n",
      "RangeIndex: 367 entries, 0 to 366\n",
      "Data columns (total 11 columns):\n",
      "Loan_ID             367 non-null object\n",
      "Gender              367 non-null int64\n",
      "Married             367 non-null int64\n",
      "Dependents          367 non-null int64\n",
      "Education           367 non-null int64\n",
      "Self_Employed       367 non-null int64\n",
      "LoanAmount          367 non-null int32\n",
      "Loan_Amount_Term    367 non-null int32\n",
      "Credit_History      367 non-null int32\n",
      "Property_Area       367 non-null int64\n",
      "Combined_Income     367 non-null int32\n",
      "dtypes: int32(4), int64(6), object(1)\n",
      "memory usage: 25.9+ KB\n",
      "None\n"
     ]
    },
    {
     "data": {
      "text/plain": [
       "(None, None)"
      ]
     },
     "execution_count": 523,
     "metadata": {},
     "output_type": "execute_result"
    }
   ],
   "source": [
    "print(df_train.info()), print(df_test.info())"
   ]
  },
  {
   "cell_type": "markdown",
   "metadata": {},
   "source": [
    "Model Building"
   ]
  },
  {
   "cell_type": "code",
   "execution_count": 526,
   "metadata": {},
   "outputs": [],
   "source": [
    "X_train = df_train.drop(['Loan_Status', 'Loan_ID'],axis=1)     \n",
    "y_train = df_train['Loan_Status']\n",
    "\n",
    "X_test = df_test.drop('Loan_ID', axis=1)"
   ]
  },
  {
   "cell_type": "markdown",
   "metadata": {},
   "source": [
    "LogisticRegression"
   ]
  },
  {
   "cell_type": "code",
   "execution_count": 527,
   "metadata": {},
   "outputs": [
    {
     "name": "stdout",
     "output_type": "stream",
     "text": [
      "0.8094462540716613\n"
     ]
    }
   ],
   "source": [
    "from sklearn.linear_model import LogisticRegression\n",
    "\n",
    "model_lr = LogisticRegression()\n",
    "\n",
    "model_lr.fit(X_train, y_train)\n",
    "\n",
    "lr_score = model_lr.score(X_train, y_train)\n",
    "print(lr_score)"
   ]
  },
  {
   "cell_type": "markdown",
   "metadata": {},
   "source": [
    "SVM"
   ]
  },
  {
   "cell_type": "code",
   "execution_count": 528,
   "metadata": {},
   "outputs": [
    {
     "name": "stdout",
     "output_type": "stream",
     "text": [
      "0.8208469055374593\n"
     ]
    }
   ],
   "source": [
    "from sklearn.svm import SVC\n",
    "\n",
    "model_svm = SVC()\n",
    "\n",
    "model_svm.fit(X_train, y_train)\n",
    "\n",
    "SVM_score = model_svm.score(X_train, y_train)\n",
    "print(SVM_score)"
   ]
  },
  {
   "cell_type": "markdown",
   "metadata": {},
   "source": [
    "Gaussian Naive Bayes"
   ]
  },
  {
   "cell_type": "code",
   "execution_count": 529,
   "metadata": {},
   "outputs": [
    {
     "name": "stdout",
     "output_type": "stream",
     "text": [
      "0.8094462540716613\n"
     ]
    }
   ],
   "source": [
    "from sklearn.naive_bayes import GaussianNB\n",
    "\n",
    "model_GNB = GaussianNB()\n",
    "\n",
    "model_GNB.fit(X_train, y_train)\n",
    "\n",
    "GNB_score = model_GNB.score(X_train, y_train)\n",
    "print(GNB_score)"
   ]
  },
  {
   "cell_type": "markdown",
   "metadata": {},
   "source": [
    "RidgeClassifier"
   ]
  },
  {
   "cell_type": "code",
   "execution_count": 530,
   "metadata": {},
   "outputs": [
    {
     "name": "stdout",
     "output_type": "stream",
     "text": [
      "0.8094462540716613\n"
     ]
    }
   ],
   "source": [
    "from sklearn.linear_model import RidgeClassifier\n",
    "\n",
    "model_RC = RidgeClassifier()\n",
    "\n",
    "model_RC.fit(X_train, y_train)\n",
    "\n",
    "RC_score = model_RC.score(X_train, y_train)\n",
    "print(RC_score)"
   ]
  },
  {
   "cell_type": "markdown",
   "metadata": {},
   "source": [
    "KNN"
   ]
  },
  {
   "cell_type": "code",
   "execution_count": 531,
   "metadata": {},
   "outputs": [
    {
     "name": "stdout",
     "output_type": "stream",
     "text": [
      "0.7817589576547231\n"
     ]
    }
   ],
   "source": [
    "from sklearn.neighbors import KNeighborsClassifier\n",
    "\n",
    "model_KNN = KNeighborsClassifier()\n",
    "\n",
    "model_KNN.fit(X_train, y_train)\n",
    "\n",
    "KNN_score = model_KNN.score(X_train, y_train)\n",
    "print(KNN_score)"
   ]
  },
  {
   "cell_type": "markdown",
   "metadata": {},
   "source": [
    "Final predictions(SVM turned out to have the highest Accuracy)"
   ]
  },
  {
   "cell_type": "code",
   "execution_count": 479,
   "metadata": {},
   "outputs": [],
   "source": [
    "predictions = model_svm.predict(df_test)"
   ]
  },
  {
   "cell_type": "code",
   "execution_count": 537,
   "metadata": {},
   "outputs": [],
   "source": [
    "Final_Output = pd.DataFrame({'Loan_ID' : df_test['Loan_ID'],'Loan_Status': predictions })\n",
    "Final_Output.to_csv('predictions_SVM.csv', index=False)"
   ]
  },
  {
   "cell_type": "code",
   "execution_count": null,
   "metadata": {},
   "outputs": [],
   "source": []
  }
 ],
 "metadata": {
  "kernelspec": {
   "display_name": "Python 3",
   "language": "python",
   "name": "python3"
  },
  "language_info": {
   "codemirror_mode": {
    "name": "ipython",
    "version": 3
   },
   "file_extension": ".py",
   "mimetype": "text/x-python",
   "name": "python",
   "nbconvert_exporter": "python",
   "pygments_lexer": "ipython3",
   "version": "3.6.4"
  }
 },
 "nbformat": 4,
 "nbformat_minor": 2
}
