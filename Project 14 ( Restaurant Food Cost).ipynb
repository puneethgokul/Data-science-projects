{
 "cells": [
  {
   "cell_type": "code",
   "execution_count": 1,
   "metadata": {},
   "outputs": [],
   "source": [
    "#Importing libraries and dataset\n",
    "import numpy as np # linear algebra\n",
    "import pandas as pd # data processing, CSV file I/O (e.g. pd.read_csv)\n",
    "import matplotlib.pyplot as plt       # matplotlib.pyplot plots data\n",
    "%matplotlib inline \n",
    "import seaborn as sns\n",
    "sns.set_style('whitegrid')"
   ]
  },
  {
   "cell_type": "code",
   "execution_count": 2,
   "metadata": {},
   "outputs": [],
   "source": [
    "df_train= pd.read_excel('Data_Train.xlsx')\n",
    "df_test= pd.read_excel('Data_Test.xlsx')"
   ]
  },
  {
   "cell_type": "code",
   "execution_count": 3,
   "metadata": {},
   "outputs": [
    {
     "name": "stdout",
     "output_type": "stream",
     "text": [
      "<class 'pandas.core.frame.DataFrame'>\n",
      "RangeIndex: 12690 entries, 0 to 12689\n",
      "Data columns (total 9 columns):\n",
      "TITLE            12690 non-null object\n",
      "RESTAURANT_ID    12690 non-null int64\n",
      "CUISINES         12690 non-null object\n",
      "TIME             12690 non-null object\n",
      "CITY             12578 non-null object\n",
      "LOCALITY         12592 non-null object\n",
      "RATING           12688 non-null object\n",
      "VOTES            11486 non-null object\n",
      "COST             12690 non-null int64\n",
      "dtypes: int64(2), object(7)\n",
      "memory usage: 892.3+ KB\n",
      "None\n",
      "<class 'pandas.core.frame.DataFrame'>\n",
      "RangeIndex: 4231 entries, 0 to 4230\n",
      "Data columns (total 8 columns):\n",
      "TITLE            4231 non-null object\n",
      "RESTAURANT_ID    4231 non-null int64\n",
      "CUISINES         4231 non-null object\n",
      "TIME             4231 non-null object\n",
      "CITY             4196 non-null object\n",
      "LOCALITY         4201 non-null object\n",
      "RATING           4229 non-null object\n",
      "VOTES            3829 non-null object\n",
      "dtypes: int64(1), object(7)\n",
      "memory usage: 264.5+ KB\n",
      "None\n"
     ]
    }
   ],
   "source": [
    "print(df_train.info())\n",
    "\n",
    "print(df_test.info())"
   ]
  },
  {
   "cell_type": "code",
   "execution_count": 4,
   "metadata": {},
   "outputs": [
    {
     "data": {
      "text/html": [
       "<div>\n",
       "<style scoped>\n",
       "    .dataframe tbody tr th:only-of-type {\n",
       "        vertical-align: middle;\n",
       "    }\n",
       "\n",
       "    .dataframe tbody tr th {\n",
       "        vertical-align: top;\n",
       "    }\n",
       "\n",
       "    .dataframe thead th {\n",
       "        text-align: right;\n",
       "    }\n",
       "</style>\n",
       "<table border=\"1\" class=\"dataframe\">\n",
       "  <thead>\n",
       "    <tr style=\"text-align: right;\">\n",
       "      <th></th>\n",
       "      <th>TITLE</th>\n",
       "      <th>RESTAURANT_ID</th>\n",
       "      <th>CUISINES</th>\n",
       "      <th>TIME</th>\n",
       "      <th>CITY</th>\n",
       "      <th>LOCALITY</th>\n",
       "      <th>RATING</th>\n",
       "      <th>VOTES</th>\n",
       "      <th>COST</th>\n",
       "    </tr>\n",
       "  </thead>\n",
       "  <tbody>\n",
       "    <tr>\n",
       "      <th>0</th>\n",
       "      <td>CASUAL DINING</td>\n",
       "      <td>9438</td>\n",
       "      <td>Malwani, Goan, North Indian</td>\n",
       "      <td>11am – 4pm, 7:30pm – 11:30pm (Mon-Sun)</td>\n",
       "      <td>Thane</td>\n",
       "      <td>Dombivali East</td>\n",
       "      <td>3.6</td>\n",
       "      <td>49 votes</td>\n",
       "      <td>1200</td>\n",
       "    </tr>\n",
       "    <tr>\n",
       "      <th>1</th>\n",
       "      <td>CASUAL DINING,BAR</td>\n",
       "      <td>13198</td>\n",
       "      <td>Asian, Modern Indian, Japanese</td>\n",
       "      <td>6pm – 11pm (Mon-Sun)</td>\n",
       "      <td>Chennai</td>\n",
       "      <td>Ramapuram</td>\n",
       "      <td>4.2</td>\n",
       "      <td>30 votes</td>\n",
       "      <td>1500</td>\n",
       "    </tr>\n",
       "    <tr>\n",
       "      <th>2</th>\n",
       "      <td>CASUAL DINING</td>\n",
       "      <td>10915</td>\n",
       "      <td>North Indian, Chinese, Biryani, Hyderabadi</td>\n",
       "      <td>11am – 3:30pm, 7pm – 11pm (Mon-Sun)</td>\n",
       "      <td>Chennai</td>\n",
       "      <td>Saligramam</td>\n",
       "      <td>3.8</td>\n",
       "      <td>221 votes</td>\n",
       "      <td>800</td>\n",
       "    </tr>\n",
       "    <tr>\n",
       "      <th>3</th>\n",
       "      <td>QUICK BITES</td>\n",
       "      <td>6346</td>\n",
       "      <td>Tibetan, Chinese</td>\n",
       "      <td>11:30am – 1am (Mon-Sun)</td>\n",
       "      <td>Mumbai</td>\n",
       "      <td>Bandra West</td>\n",
       "      <td>4.1</td>\n",
       "      <td>24 votes</td>\n",
       "      <td>800</td>\n",
       "    </tr>\n",
       "    <tr>\n",
       "      <th>4</th>\n",
       "      <td>DESSERT PARLOR</td>\n",
       "      <td>15387</td>\n",
       "      <td>Desserts</td>\n",
       "      <td>11am – 1am (Mon-Sun)</td>\n",
       "      <td>Mumbai</td>\n",
       "      <td>Lower Parel</td>\n",
       "      <td>3.8</td>\n",
       "      <td>165 votes</td>\n",
       "      <td>300</td>\n",
       "    </tr>\n",
       "    <tr>\n",
       "      <th>5</th>\n",
       "      <td>CASUAL DINING</td>\n",
       "      <td>5618</td>\n",
       "      <td>North Indian, Chinese, Seafood, Biryani</td>\n",
       "      <td>12noon – 12:30AM (Mon-Sun)</td>\n",
       "      <td>Mumbai</td>\n",
       "      <td>Vile Parle West</td>\n",
       "      <td>4.0</td>\n",
       "      <td>550 votes</td>\n",
       "      <td>800</td>\n",
       "    </tr>\n",
       "    <tr>\n",
       "      <th>6</th>\n",
       "      <td>CAFÉ</td>\n",
       "      <td>4383</td>\n",
       "      <td>Cafe, Chinese, Pizza, North Indian, Burger</td>\n",
       "      <td>12noon – 11:30pm (Mon, Tue, Thu, Fri, Sat, Sun...</td>\n",
       "      <td>Bangalore</td>\n",
       "      <td>Koramangala 6th Block</td>\n",
       "      <td>4.1</td>\n",
       "      <td>509 votes</td>\n",
       "      <td>600</td>\n",
       "    </tr>\n",
       "    <tr>\n",
       "      <th>7</th>\n",
       "      <td>MICROBREWERY</td>\n",
       "      <td>1249</td>\n",
       "      <td>Bar Food</td>\n",
       "      <td>1pm – 1am (Mon-Sun)</td>\n",
       "      <td>Gurgaon</td>\n",
       "      <td>Sector 29</td>\n",
       "      <td>4.3</td>\n",
       "      <td>1612 votes</td>\n",
       "      <td>1600</td>\n",
       "    </tr>\n",
       "    <tr>\n",
       "      <th>8</th>\n",
       "      <td>QUICK BITES</td>\n",
       "      <td>7062</td>\n",
       "      <td>South Indian, North Indian</td>\n",
       "      <td>7am – 10:30pm (Mon-Sun)</td>\n",
       "      <td>Bangalore</td>\n",
       "      <td>Bannerghatta Road</td>\n",
       "      <td>3.9</td>\n",
       "      <td>101 votes</td>\n",
       "      <td>300</td>\n",
       "    </tr>\n",
       "    <tr>\n",
       "      <th>9</th>\n",
       "      <td>QUICK BITES</td>\n",
       "      <td>10109</td>\n",
       "      <td>North Indian</td>\n",
       "      <td>11am – 2pm, 4pm – 10:30pm (Mon-Sun)</td>\n",
       "      <td>Hyderabad</td>\n",
       "      <td>Dilsukhnagar</td>\n",
       "      <td>3.3</td>\n",
       "      <td>219 votes</td>\n",
       "      <td>200</td>\n",
       "    </tr>\n",
       "  </tbody>\n",
       "</table>\n",
       "</div>"
      ],
      "text/plain": [
       "               TITLE  RESTAURANT_ID  \\\n",
       "0      CASUAL DINING           9438   \n",
       "1  CASUAL DINING,BAR          13198   \n",
       "2      CASUAL DINING          10915   \n",
       "3        QUICK BITES           6346   \n",
       "4     DESSERT PARLOR          15387   \n",
       "5      CASUAL DINING           5618   \n",
       "6               CAFÉ           4383   \n",
       "7       MICROBREWERY           1249   \n",
       "8        QUICK BITES           7062   \n",
       "9        QUICK BITES          10109   \n",
       "\n",
       "                                     CUISINES  \\\n",
       "0                 Malwani, Goan, North Indian   \n",
       "1              Asian, Modern Indian, Japanese   \n",
       "2  North Indian, Chinese, Biryani, Hyderabadi   \n",
       "3                            Tibetan, Chinese   \n",
       "4                                    Desserts   \n",
       "5     North Indian, Chinese, Seafood, Biryani   \n",
       "6  Cafe, Chinese, Pizza, North Indian, Burger   \n",
       "7                                    Bar Food   \n",
       "8                  South Indian, North Indian   \n",
       "9                                North Indian   \n",
       "\n",
       "                                                TIME       CITY  \\\n",
       "0             11am – 4pm, 7:30pm – 11:30pm (Mon-Sun)      Thane   \n",
       "1                               6pm – 11pm (Mon-Sun)    Chennai   \n",
       "2                11am – 3:30pm, 7pm – 11pm (Mon-Sun)    Chennai   \n",
       "3                            11:30am – 1am (Mon-Sun)     Mumbai   \n",
       "4                               11am – 1am (Mon-Sun)     Mumbai   \n",
       "5                         12noon – 12:30AM (Mon-Sun)     Mumbai   \n",
       "6  12noon – 11:30pm (Mon, Tue, Thu, Fri, Sat, Sun...  Bangalore   \n",
       "7                                1pm – 1am (Mon-Sun)    Gurgaon   \n",
       "8                            7am – 10:30pm (Mon-Sun)  Bangalore   \n",
       "9                11am – 2pm, 4pm – 10:30pm (Mon-Sun)  Hyderabad   \n",
       "\n",
       "                LOCALITY RATING       VOTES  COST  \n",
       "0         Dombivali East    3.6    49 votes  1200  \n",
       "1              Ramapuram    4.2    30 votes  1500  \n",
       "2             Saligramam    3.8   221 votes   800  \n",
       "3            Bandra West    4.1    24 votes   800  \n",
       "4            Lower Parel    3.8   165 votes   300  \n",
       "5        Vile Parle West    4.0   550 votes   800  \n",
       "6  Koramangala 6th Block    4.1   509 votes   600  \n",
       "7              Sector 29    4.3  1612 votes  1600  \n",
       "8      Bannerghatta Road    3.9   101 votes   300  \n",
       "9           Dilsukhnagar    3.3   219 votes   200  "
      ]
     },
     "execution_count": 4,
     "metadata": {},
     "output_type": "execute_result"
    }
   ],
   "source": [
    "df_train.head(10)"
   ]
  },
  {
   "cell_type": "code",
   "execution_count": 5,
   "metadata": {},
   "outputs": [],
   "source": [
    "df_train['source'] = 'train'\n",
    "\n",
    "df_test['source'] = 'test'"
   ]
  },
  {
   "cell_type": "code",
   "execution_count": 6,
   "metadata": {},
   "outputs": [],
   "source": [
    "df =pd.concat([df_train, df_test],ignore_index=True)"
   ]
  },
  {
   "cell_type": "code",
   "execution_count": 7,
   "metadata": {},
   "outputs": [
    {
     "data": {
      "text/html": [
       "<div>\n",
       "<style scoped>\n",
       "    .dataframe tbody tr th:only-of-type {\n",
       "        vertical-align: middle;\n",
       "    }\n",
       "\n",
       "    .dataframe tbody tr th {\n",
       "        vertical-align: top;\n",
       "    }\n",
       "\n",
       "    .dataframe thead th {\n",
       "        text-align: right;\n",
       "    }\n",
       "</style>\n",
       "<table border=\"1\" class=\"dataframe\">\n",
       "  <thead>\n",
       "    <tr style=\"text-align: right;\">\n",
       "      <th></th>\n",
       "      <th>CITY</th>\n",
       "      <th>COST</th>\n",
       "      <th>CUISINES</th>\n",
       "      <th>LOCALITY</th>\n",
       "      <th>RATING</th>\n",
       "      <th>RESTAURANT_ID</th>\n",
       "      <th>TIME</th>\n",
       "      <th>TITLE</th>\n",
       "      <th>VOTES</th>\n",
       "      <th>source</th>\n",
       "    </tr>\n",
       "  </thead>\n",
       "  <tbody>\n",
       "    <tr>\n",
       "      <th>16911</th>\n",
       "      <td>Mumbai</td>\n",
       "      <td>NaN</td>\n",
       "      <td>North Indian, Mughlai, Chinese</td>\n",
       "      <td>Goregaon East</td>\n",
       "      <td>3.6</td>\n",
       "      <td>3265</td>\n",
       "      <td>9am – 1am (Mon-Sun)</td>\n",
       "      <td>CASUAL DINING</td>\n",
       "      <td>441 votes</td>\n",
       "      <td>test</td>\n",
       "    </tr>\n",
       "    <tr>\n",
       "      <th>16912</th>\n",
       "      <td>Bangalore</td>\n",
       "      <td>NaN</td>\n",
       "      <td>North Indian, Chinese, Kebab, Juices</td>\n",
       "      <td>JP Nagar</td>\n",
       "      <td>3.8</td>\n",
       "      <td>6973</td>\n",
       "      <td>12noon – 4pm, 7pm – 11pm (Mon-Sun)</td>\n",
       "      <td>QUICK BITES</td>\n",
       "      <td>245 votes</td>\n",
       "      <td>test</td>\n",
       "    </tr>\n",
       "    <tr>\n",
       "      <th>16913</th>\n",
       "      <td>Mumbai</td>\n",
       "      <td>NaN</td>\n",
       "      <td>Sindhi, Street Food</td>\n",
       "      <td>Lower Parel</td>\n",
       "      <td>NEW</td>\n",
       "      <td>6887</td>\n",
       "      <td>11:30am – 4pm, 7pm – 11:30pm (Mon-Sun)</td>\n",
       "      <td>CASUAL DINING</td>\n",
       "      <td>NaN</td>\n",
       "      <td>test</td>\n",
       "    </tr>\n",
       "    <tr>\n",
       "      <th>16914</th>\n",
       "      <td>Bangalore</td>\n",
       "      <td>NaN</td>\n",
       "      <td>Kerala, South Indian</td>\n",
       "      <td>Indiranagar</td>\n",
       "      <td>3.8</td>\n",
       "      <td>331</td>\n",
       "      <td>12noon – 4pm, 7pm – 10:30pm (Mon-Sat),12noon –...</td>\n",
       "      <td>QUICK BITES</td>\n",
       "      <td>410 votes</td>\n",
       "      <td>test</td>\n",
       "    </tr>\n",
       "    <tr>\n",
       "      <th>16915</th>\n",
       "      <td>Mumbai</td>\n",
       "      <td>NaN</td>\n",
       "      <td>North Indian, Mughlai, Chinese</td>\n",
       "      <td>Grant Road</td>\n",
       "      <td>4.0</td>\n",
       "      <td>1670</td>\n",
       "      <td>6am – 12:30AM (Mon, Tue, Wed, Thu, Sat, Sun), ...</td>\n",
       "      <td>QUICK BITES</td>\n",
       "      <td>197 votes</td>\n",
       "      <td>test</td>\n",
       "    </tr>\n",
       "    <tr>\n",
       "      <th>16916</th>\n",
       "      <td>New Delhi</td>\n",
       "      <td>NaN</td>\n",
       "      <td>North Indian, Mughlai, Chinese</td>\n",
       "      <td>Punjabi Bagh</td>\n",
       "      <td>3.9</td>\n",
       "      <td>9057</td>\n",
       "      <td>11:30am – 11:30pm (Mon-Sun)</td>\n",
       "      <td>CASUAL DINING</td>\n",
       "      <td>287 votes</td>\n",
       "      <td>test</td>\n",
       "    </tr>\n",
       "    <tr>\n",
       "      <th>16917</th>\n",
       "      <td>Bangalore</td>\n",
       "      <td>NaN</td>\n",
       "      <td>Biryani, North Indian, Sandwich, Salad, Wraps</td>\n",
       "      <td>HSR Layout</td>\n",
       "      <td>4.3</td>\n",
       "      <td>1247</td>\n",
       "      <td>11am – 1am (Mon-Sun)</td>\n",
       "      <td>None</td>\n",
       "      <td>469 votes</td>\n",
       "      <td>test</td>\n",
       "    </tr>\n",
       "    <tr>\n",
       "      <th>16918</th>\n",
       "      <td>Faridabad</td>\n",
       "      <td>NaN</td>\n",
       "      <td>Continental, North Indian</td>\n",
       "      <td>Sector 86</td>\n",
       "      <td>3.7</td>\n",
       "      <td>8617</td>\n",
       "      <td>9:30am – 10:30pm (Mon-Sun)</td>\n",
       "      <td>QUICK BITES</td>\n",
       "      <td>53 votes</td>\n",
       "      <td>test</td>\n",
       "    </tr>\n",
       "    <tr>\n",
       "      <th>16919</th>\n",
       "      <td>Kochi</td>\n",
       "      <td>NaN</td>\n",
       "      <td>Rolls, Beverages</td>\n",
       "      <td>Kochi</td>\n",
       "      <td>-</td>\n",
       "      <td>6485</td>\n",
       "      <td>11am – 11:30pm (Mon, Tue, Wed, Thu, Sat, Sun),...</td>\n",
       "      <td>QUICK BITES</td>\n",
       "      <td>NaN</td>\n",
       "      <td>test</td>\n",
       "    </tr>\n",
       "    <tr>\n",
       "      <th>16920</th>\n",
       "      <td>Bandra West</td>\n",
       "      <td>NaN</td>\n",
       "      <td>Mughlai</td>\n",
       "      <td>Perry Cross Road</td>\n",
       "      <td>3.7</td>\n",
       "      <td>2421</td>\n",
       "      <td>5pm – 1am (Mon-Sun)</td>\n",
       "      <td>QUICK BITES</td>\n",
       "      <td>63 votes</td>\n",
       "      <td>test</td>\n",
       "    </tr>\n",
       "  </tbody>\n",
       "</table>\n",
       "</div>"
      ],
      "text/plain": [
       "              CITY  COST                                       CUISINES  \\\n",
       "16911       Mumbai   NaN                 North Indian, Mughlai, Chinese   \n",
       "16912    Bangalore   NaN           North Indian, Chinese, Kebab, Juices   \n",
       "16913       Mumbai   NaN                            Sindhi, Street Food   \n",
       "16914    Bangalore   NaN                           Kerala, South Indian   \n",
       "16915       Mumbai   NaN                 North Indian, Mughlai, Chinese   \n",
       "16916    New Delhi   NaN                 North Indian, Mughlai, Chinese   \n",
       "16917    Bangalore   NaN  Biryani, North Indian, Sandwich, Salad, Wraps   \n",
       "16918    Faridabad   NaN                      Continental, North Indian   \n",
       "16919        Kochi   NaN                               Rolls, Beverages   \n",
       "16920  Bandra West   NaN                                        Mughlai   \n",
       "\n",
       "               LOCALITY RATING  RESTAURANT_ID  \\\n",
       "16911     Goregaon East    3.6           3265   \n",
       "16912          JP Nagar    3.8           6973   \n",
       "16913       Lower Parel    NEW           6887   \n",
       "16914       Indiranagar    3.8            331   \n",
       "16915        Grant Road    4.0           1670   \n",
       "16916      Punjabi Bagh    3.9           9057   \n",
       "16917        HSR Layout    4.3           1247   \n",
       "16918         Sector 86    3.7           8617   \n",
       "16919             Kochi      -           6485   \n",
       "16920  Perry Cross Road    3.7           2421   \n",
       "\n",
       "                                                    TIME          TITLE  \\\n",
       "16911                                9am – 1am (Mon-Sun)  CASUAL DINING   \n",
       "16912                 12noon – 4pm, 7pm – 11pm (Mon-Sun)    QUICK BITES   \n",
       "16913             11:30am – 4pm, 7pm – 11:30pm (Mon-Sun)  CASUAL DINING   \n",
       "16914  12noon – 4pm, 7pm – 10:30pm (Mon-Sat),12noon –...    QUICK BITES   \n",
       "16915  6am – 12:30AM (Mon, Tue, Wed, Thu, Sat, Sun), ...    QUICK BITES   \n",
       "16916                        11:30am – 11:30pm (Mon-Sun)  CASUAL DINING   \n",
       "16917                               11am – 1am (Mon-Sun)           None   \n",
       "16918                         9:30am – 10:30pm (Mon-Sun)    QUICK BITES   \n",
       "16919  11am – 11:30pm (Mon, Tue, Wed, Thu, Sat, Sun),...    QUICK BITES   \n",
       "16920                                5pm – 1am (Mon-Sun)    QUICK BITES   \n",
       "\n",
       "           VOTES source  \n",
       "16911  441 votes   test  \n",
       "16912  245 votes   test  \n",
       "16913        NaN   test  \n",
       "16914  410 votes   test  \n",
       "16915  197 votes   test  \n",
       "16916  287 votes   test  \n",
       "16917  469 votes   test  \n",
       "16918   53 votes   test  \n",
       "16919        NaN   test  \n",
       "16920   63 votes   test  "
      ]
     },
     "execution_count": 7,
     "metadata": {},
     "output_type": "execute_result"
    }
   ],
   "source": [
    "df.tail(10)"
   ]
  },
  {
   "cell_type": "code",
   "execution_count": 8,
   "metadata": {},
   "outputs": [
    {
     "name": "stdout",
     "output_type": "stream",
     "text": [
      "<class 'pandas.core.frame.DataFrame'>\n",
      "RangeIndex: 16921 entries, 0 to 16920\n",
      "Data columns (total 10 columns):\n",
      "CITY             16774 non-null object\n",
      "COST             12690 non-null float64\n",
      "CUISINES         16921 non-null object\n",
      "LOCALITY         16793 non-null object\n",
      "RATING           16917 non-null object\n",
      "RESTAURANT_ID    16921 non-null int64\n",
      "TIME             16921 non-null object\n",
      "TITLE            16921 non-null object\n",
      "VOTES            15315 non-null object\n",
      "source           16921 non-null object\n",
      "dtypes: float64(1), int64(1), object(8)\n",
      "memory usage: 1.3+ MB\n"
     ]
    }
   ],
   "source": [
    "df.info()"
   ]
  },
  {
   "cell_type": "code",
   "execution_count": 9,
   "metadata": {},
   "outputs": [],
   "source": [
    "df= df.drop(['RESTAURANT_ID','TIME'],axis = 1)"
   ]
  },
  {
   "cell_type": "code",
   "execution_count": 10,
   "metadata": {},
   "outputs": [
    {
     "data": {
      "text/plain": [
       "<matplotlib.axes._subplots.AxesSubplot at 0x20245118160>"
      ]
     },
     "execution_count": 10,
     "metadata": {},
     "output_type": "execute_result"
    },
    {
     "data": {
      "image/png": "[encoded data removed]",
      "text/plain": [
       "<matplotlib.figure.Figure at 0x202451186a0>"
      ]
     },
     "metadata": {},
     "output_type": "display_data"
    }
   ],
   "source": [
    "plt.figure(figsize = (12,8))\n",
    "sns.heatmap(df.isnull(),cmap = 'viridis',yticklabels=False, cbar= False)"
   ]
  },
  {
   "cell_type": "markdown",
   "metadata": {},
   "source": [
    "city column"
   ]
  },
  {
   "cell_type": "code",
   "execution_count": 11,
   "metadata": {},
   "outputs": [
    {
     "data": {
      "text/plain": [
       "451"
      ]
     },
     "execution_count": 11,
     "metadata": {},
     "output_type": "execute_result"
    }
   ],
   "source": [
    "len(df['CITY'].unique())"
   ]
  },
  {
   "cell_type": "code",
   "execution_count": 12,
   "metadata": {},
   "outputs": [],
   "source": [
    "df['CITY'] = df['CITY'].fillna('unknown')"
   ]
  },
  {
   "cell_type": "code",
   "execution_count": 13,
   "metadata": {},
   "outputs": [],
   "source": [
    "from sklearn.preprocessing import LabelEncoder\n",
    "\n",
    "le = LabelEncoder()\n",
    "\n",
    "df['CITY'] = le.fit_transform(df['CITY'])"
   ]
  },
  {
   "cell_type": "markdown",
   "metadata": {},
   "source": [
    "cuisines column"
   ]
  },
  {
   "cell_type": "code",
   "execution_count": 14,
   "metadata": {},
   "outputs": [
    {
     "data": {
      "text/plain": [
       "5183"
      ]
     },
     "execution_count": 14,
     "metadata": {},
     "output_type": "execute_result"
    }
   ],
   "source": [
    "len(df['CUISINES'].unique())"
   ]
  },
  {
   "cell_type": "code",
   "execution_count": 15,
   "metadata": {},
   "outputs": [],
   "source": [
    "from sklearn.feature_extraction.text import TfidfVectorizer\n",
    "tf1 = TfidfVectorizer(ngram_range=(1, 1), lowercase=True)\n",
    "df_cuisines = tf1.fit_transform(df['CUISINES'])\n",
    "df_cuisines = pd.DataFrame(data=df_cuisines.toarray(), columns=tf1.get_feature_names())"
   ]
  },
  {
   "cell_type": "markdown",
   "metadata": {},
   "source": [
    "Rating column"
   ]
  },
  {
   "cell_type": "code",
   "execution_count": 16,
   "metadata": {},
   "outputs": [
    {
     "data": {
      "text/plain": [
       "array(['3.6', '4.2', '3.8', '4.1', '4.0', '4.3', '3.9', '3.3', '3.4', '-',\n",
       "       '4.5', '3.5', '4.4', '2.7', '3.7', '4.7', 'NEW', '3.1', '2.5',\n",
       "       '4.6', '2.8', nan, '3.0', '3.2', '2.6', '2.9', '4.9', '4.8', '2.4',\n",
       "       '2.3', '2.0', '2.1', '2.2'], dtype=object)"
      ]
     },
     "execution_count": 16,
     "metadata": {},
     "output_type": "execute_result"
    }
   ],
   "source": [
    "df['RATING'].unique()"
   ]
  },
  {
   "cell_type": "code",
   "execution_count": 17,
   "metadata": {},
   "outputs": [],
   "source": [
    "df['RATING'] = df['RATING'].replace(['NEW','-',np.nan],0)\n",
    "\n",
    "df['RATING'] = df['RATING'].replace(0,df['RATING'].median())"
   ]
  },
  {
   "cell_type": "code",
   "execution_count": 18,
   "metadata": {},
   "outputs": [],
   "source": [
    "df['RATING'] = df['RATING'].astype(float)"
   ]
  },
  {
   "cell_type": "markdown",
   "metadata": {},
   "source": [
    "Title column"
   ]
  },
  {
   "cell_type": "code",
   "execution_count": 19,
   "metadata": {},
   "outputs": [
    {
     "data": {
      "text/plain": [
       "123"
      ]
     },
     "execution_count": 19,
     "metadata": {},
     "output_type": "execute_result"
    }
   ],
   "source": [
    "df['TITLE'].nunique()"
   ]
  },
  {
   "cell_type": "code",
   "execution_count": 20,
   "metadata": {},
   "outputs": [],
   "source": [
    "from sklearn.feature_extraction.text import TfidfVectorizer\n",
    "tf2 = TfidfVectorizer(ngram_range=(1, 1), lowercase=True)\n",
    "df_title = tf2.fit_transform(df['TITLE'])\n",
    "df_title = pd.DataFrame(data=df_title.toarray(), columns=tf2.get_feature_names())"
   ]
  },
  {
   "cell_type": "markdown",
   "metadata": {},
   "source": [
    "votes column"
   ]
  },
  {
   "cell_type": "code",
   "execution_count": 21,
   "metadata": {},
   "outputs": [],
   "source": [
    "df['VOTES'] = df['VOTES'].astype(str)"
   ]
  },
  {
   "cell_type": "code",
   "execution_count": 22,
   "metadata": {},
   "outputs": [],
   "source": [
    "df['VOTES'] = df['VOTES'].apply(lambda x: x.replace('votes','').strip())"
   ]
  },
  {
   "cell_type": "code",
   "execution_count": 23,
   "metadata": {},
   "outputs": [],
   "source": [
    "df['VOTES'] = df['VOTES'].replace(\"nan\",df['VOTES'].median())"
   ]
  },
  {
   "cell_type": "code",
   "execution_count": 24,
   "metadata": {},
   "outputs": [],
   "source": [
    "df['VOTES'] = df['VOTES'].astype(int)"
   ]
  },
  {
   "cell_type": "markdown",
   "metadata": {},
   "source": [
    "EDA"
   ]
  },
  {
   "cell_type": "code",
   "execution_count": 25,
   "metadata": {},
   "outputs": [
    {
     "data": {
      "text/plain": [
       "<matplotlib.axes._subplots.AxesSubplot at 0x202457c5048>"
      ]
     },
     "execution_count": 25,
     "metadata": {},
     "output_type": "execute_result"
    },
    {
     "data": {
      "image/png": "[encoded data removed]",
      "text/plain": [
       "<matplotlib.figure.Figure at 0x202457c5cf8>"
      ]
     },
     "metadata": {},
     "output_type": "display_data"
    }
   ],
   "source": [
    "title_mean = df.groupby(['TITLE']).mean().reset_index()\n",
    "\n",
    "sns.distplot(title_mean['RATING'])"
   ]
  },
  {
   "cell_type": "code",
   "execution_count": 26,
   "metadata": {},
   "outputs": [
    {
     "data": {
      "text/plain": [
       "<matplotlib.axes._subplots.AxesSubplot at 0x2024582cda0>"
      ]
     },
     "execution_count": 26,
     "metadata": {},
     "output_type": "execute_result"
    },
    {
     "data": {
      "image/png": "[encoded data removed]",
      "text/plain": [
       "<matplotlib.figure.Figure at 0x20245745d30>"
      ]
     },
     "metadata": {},
     "output_type": "display_data"
    }
   ],
   "source": [
    "city_mean = df.groupby(['CITY']).mean().reset_index()\n",
    "\n",
    "sns.distplot(city_mean['RATING'])"
   ]
  },
  {
   "cell_type": "markdown",
   "metadata": {},
   "source": [
    "Locality Column"
   ]
  },
  {
   "cell_type": "code",
   "execution_count": 27,
   "metadata": {},
   "outputs": [
    {
     "data": {
      "text/plain": [
       "1636"
      ]
     },
     "execution_count": 27,
     "metadata": {},
     "output_type": "execute_result"
    }
   ],
   "source": [
    "df['LOCALITY'].nunique()"
   ]
  },
  {
   "cell_type": "code",
   "execution_count": 28,
   "metadata": {},
   "outputs": [],
   "source": [
    "df = df.drop(['LOCALITY'], axis = 1)"
   ]
  },
  {
   "cell_type": "markdown",
   "metadata": {},
   "source": [
    "adding derived columns"
   ]
  },
  {
   "cell_type": "code",
   "execution_count": 29,
   "metadata": {},
   "outputs": [],
   "source": [
    "df = pd.concat([df, df_title, df_cuisines], axis=1) "
   ]
  },
  {
   "cell_type": "code",
   "execution_count": 30,
   "metadata": {},
   "outputs": [],
   "source": [
    "df = df.drop(['TITLE','CUISINES'],axis=1)"
   ]
  },
  {
   "cell_type": "code",
   "execution_count": 31,
   "metadata": {},
   "outputs": [
    {
     "name": "stdout",
     "output_type": "stream",
     "text": [
      "<class 'pandas.core.frame.DataFrame'>\n",
      "RangeIndex: 16921 entries, 0 to 16920\n",
      "Columns: 173 entries, CITY to wraps\n",
      "dtypes: float64(170), int32(2), object(1)\n",
      "memory usage: 22.2+ MB\n"
     ]
    }
   ],
   "source": [
    "df.info()"
   ]
  },
  {
   "cell_type": "code",
   "execution_count": 32,
   "metadata": {},
   "outputs": [
    {
     "data": {
      "text/html": [
       "<div>\n",
       "<style scoped>\n",
       "    .dataframe tbody tr th:only-of-type {\n",
       "        vertical-align: middle;\n",
       "    }\n",
       "\n",
       "    .dataframe tbody tr th {\n",
       "        vertical-align: top;\n",
       "    }\n",
       "\n",
       "    .dataframe thead th {\n",
       "        text-align: right;\n",
       "    }\n",
       "</style>\n",
       "<table border=\"1\" class=\"dataframe\">\n",
       "  <thead>\n",
       "    <tr style=\"text-align: right;\">\n",
       "      <th></th>\n",
       "      <th>CITY</th>\n",
       "      <th>COST</th>\n",
       "      <th>RATING</th>\n",
       "      <th>VOTES</th>\n",
       "      <th>source</th>\n",
       "      <th>bakery</th>\n",
       "      <th>bar</th>\n",
       "      <th>beverage</th>\n",
       "      <th>bhojanalya</th>\n",
       "      <th>bites</th>\n",
       "      <th>...</th>\n",
       "      <th>tamil</th>\n",
       "      <th>tea</th>\n",
       "      <th>tex</th>\n",
       "      <th>thai</th>\n",
       "      <th>tibetan</th>\n",
       "      <th>turkish</th>\n",
       "      <th>varies</th>\n",
       "      <th>vegan</th>\n",
       "      <th>vietnamese</th>\n",
       "      <th>wraps</th>\n",
       "    </tr>\n",
       "  </thead>\n",
       "  <tbody>\n",
       "    <tr>\n",
       "      <th>0</th>\n",
       "      <td>400</td>\n",
       "      <td>1200.0</td>\n",
       "      <td>3.6</td>\n",
       "      <td>49</td>\n",
       "      <td>train</td>\n",
       "      <td>0.0</td>\n",
       "      <td>0.000000</td>\n",
       "      <td>0.0</td>\n",
       "      <td>0.0</td>\n",
       "      <td>0.000000</td>\n",
       "      <td>...</td>\n",
       "      <td>0.0</td>\n",
       "      <td>0.0</td>\n",
       "      <td>0.0</td>\n",
       "      <td>0.0</td>\n",
       "      <td>0.0000</td>\n",
       "      <td>0.0</td>\n",
       "      <td>0.0</td>\n",
       "      <td>0.0</td>\n",
       "      <td>0.0</td>\n",
       "      <td>0.0</td>\n",
       "    </tr>\n",
       "    <tr>\n",
       "      <th>1</th>\n",
       "      <td>75</td>\n",
       "      <td>1500.0</td>\n",
       "      <td>4.2</td>\n",
       "      <td>30</td>\n",
       "      <td>train</td>\n",
       "      <td>0.0</td>\n",
       "      <td>0.808335</td>\n",
       "      <td>0.0</td>\n",
       "      <td>0.0</td>\n",
       "      <td>0.000000</td>\n",
       "      <td>...</td>\n",
       "      <td>0.0</td>\n",
       "      <td>0.0</td>\n",
       "      <td>0.0</td>\n",
       "      <td>0.0</td>\n",
       "      <td>0.0000</td>\n",
       "      <td>0.0</td>\n",
       "      <td>0.0</td>\n",
       "      <td>0.0</td>\n",
       "      <td>0.0</td>\n",
       "      <td>0.0</td>\n",
       "    </tr>\n",
       "    <tr>\n",
       "      <th>2</th>\n",
       "      <td>75</td>\n",
       "      <td>800.0</td>\n",
       "      <td>3.8</td>\n",
       "      <td>221</td>\n",
       "      <td>train</td>\n",
       "      <td>0.0</td>\n",
       "      <td>0.000000</td>\n",
       "      <td>0.0</td>\n",
       "      <td>0.0</td>\n",
       "      <td>0.000000</td>\n",
       "      <td>...</td>\n",
       "      <td>0.0</td>\n",
       "      <td>0.0</td>\n",
       "      <td>0.0</td>\n",
       "      <td>0.0</td>\n",
       "      <td>0.0000</td>\n",
       "      <td>0.0</td>\n",
       "      <td>0.0</td>\n",
       "      <td>0.0</td>\n",
       "      <td>0.0</td>\n",
       "      <td>0.0</td>\n",
       "    </tr>\n",
       "    <tr>\n",
       "      <th>3</th>\n",
       "      <td>277</td>\n",
       "      <td>800.0</td>\n",
       "      <td>4.1</td>\n",
       "      <td>24</td>\n",
       "      <td>train</td>\n",
       "      <td>0.0</td>\n",
       "      <td>0.000000</td>\n",
       "      <td>0.0</td>\n",
       "      <td>0.0</td>\n",
       "      <td>0.707107</td>\n",
       "      <td>...</td>\n",
       "      <td>0.0</td>\n",
       "      <td>0.0</td>\n",
       "      <td>0.0</td>\n",
       "      <td>0.0</td>\n",
       "      <td>0.9538</td>\n",
       "      <td>0.0</td>\n",
       "      <td>0.0</td>\n",
       "      <td>0.0</td>\n",
       "      <td>0.0</td>\n",
       "      <td>0.0</td>\n",
       "    </tr>\n",
       "    <tr>\n",
       "      <th>4</th>\n",
       "      <td>277</td>\n",
       "      <td>300.0</td>\n",
       "      <td>3.8</td>\n",
       "      <td>165</td>\n",
       "      <td>train</td>\n",
       "      <td>0.0</td>\n",
       "      <td>0.000000</td>\n",
       "      <td>0.0</td>\n",
       "      <td>0.0</td>\n",
       "      <td>0.000000</td>\n",
       "      <td>...</td>\n",
       "      <td>0.0</td>\n",
       "      <td>0.0</td>\n",
       "      <td>0.0</td>\n",
       "      <td>0.0</td>\n",
       "      <td>0.0000</td>\n",
       "      <td>0.0</td>\n",
       "      <td>0.0</td>\n",
       "      <td>0.0</td>\n",
       "      <td>0.0</td>\n",
       "      <td>0.0</td>\n",
       "    </tr>\n",
       "  </tbody>\n",
       "</table>\n",
       "<p>5 rows × 173 columns</p>\n",
       "</div>"
      ],
      "text/plain": [
       "   CITY    COST  RATING  VOTES source  bakery       bar  beverage  bhojanalya  \\\n",
       "0   400  1200.0     3.6     49  train     0.0  0.000000       0.0         0.0   \n",
       "1    75  1500.0     4.2     30  train     0.0  0.808335       0.0         0.0   \n",
       "2    75   800.0     3.8    221  train     0.0  0.000000       0.0         0.0   \n",
       "3   277   800.0     4.1     24  train     0.0  0.000000       0.0         0.0   \n",
       "4   277   300.0     3.8    165  train     0.0  0.000000       0.0         0.0   \n",
       "\n",
       "      bites  ...    tamil  tea  tex  thai  tibetan  turkish  varies  vegan  \\\n",
       "0  0.000000  ...      0.0  0.0  0.0   0.0   0.0000      0.0     0.0    0.0   \n",
       "1  0.000000  ...      0.0  0.0  0.0   0.0   0.0000      0.0     0.0    0.0   \n",
       "2  0.000000  ...      0.0  0.0  0.0   0.0   0.0000      0.0     0.0    0.0   \n",
       "3  0.707107  ...      0.0  0.0  0.0   0.0   0.9538      0.0     0.0    0.0   \n",
       "4  0.000000  ...      0.0  0.0  0.0   0.0   0.0000      0.0     0.0    0.0   \n",
       "\n",
       "   vietnamese  wraps  \n",
       "0         0.0    0.0  \n",
       "1         0.0    0.0  \n",
       "2         0.0    0.0  \n",
       "3         0.0    0.0  \n",
       "4         0.0    0.0  \n",
       "\n",
       "[5 rows x 173 columns]"
      ]
     },
     "execution_count": 32,
     "metadata": {},
     "output_type": "execute_result"
    }
   ],
   "source": [
    "df.head()"
   ]
  },
  {
   "cell_type": "markdown",
   "metadata": {},
   "source": [
    "preparing the data"
   ]
  },
  {
   "cell_type": "code",
   "execution_count": 33,
   "metadata": {},
   "outputs": [],
   "source": [
    "df_x = pd.DataFrame(df[df['source']== 'train'])\n",
    "\n",
    "df_x = pd.DataFrame(df_x.drop('source',axis=1))"
   ]
  },
  {
   "cell_type": "code",
   "execution_count": 34,
   "metadata": {},
   "outputs": [],
   "source": [
    "df_y = df[df['source']== 'test']\n",
    "\n",
    "df_y = df_.drop('source',axis=1)"
   ]
  },
  {
   "cell_type": "code",
   "execution_count": 35,
   "metadata": {},
   "outputs": [],
   "source": [
    "X_train = df_x.drop('COST',axis=1) \n",
    "Y_train = df_x['COST']\n",
    "X_test  = df_y.drop('COST',axis=1)"
   ]
  },
  {
   "cell_type": "markdown",
   "metadata": {},
   "source": [
    "Desicion tree Regressor"
   ]
  },
  {
   "cell_type": "code",
   "execution_count": 36,
   "metadata": {},
   "outputs": [
    {
     "name": "stdout",
     "output_type": "stream",
     "text": [
      "max_features= 90, max_depth = 8 model_score = 68.12432663103432%\n"
     ]
    }
   ],
   "source": [
    "from sklearn.tree import DecisionTreeRegressor\n",
    "from sklearn.model_selection import KFold\n",
    "from sklearn.model_selection import cross_val_score\n",
    "\n",
    "newdict = dict()\n",
    "max_features_list = list(range(20,120,10))\n",
    "max_depth_list = list(range(2,10))\n",
    "\n",
    "for f in max_features_list:\n",
    "     for d in  max_depth_list:\n",
    "            model_dt = DecisionTreeRegressor(max_features=f , max_depth = d)\n",
    "            kfold = KFold(n_splits = 10)\n",
    "            results = cross_val_score(model_dt, X_train, Y_train, cv=kfold)\n",
    "        \n",
    "            newdict[\"max_features= {}, max_depth = {}\".format(f,d)] = \"model_score = {}%\".format(results.mean()*100.0)\n",
    "            \n",
    "\n",
    "print(max(newdict,key = newdict.get),max(newdict.values()))"
   ]
  },
  {
   "cell_type": "code",
   "execution_count": 37,
   "metadata": {},
   "outputs": [
    {
     "name": "stdout",
     "output_type": "stream",
     "text": [
      "                    Imp\n",
      "casual         0.277884\n",
      "quick          0.179470\n",
      "RATING         0.162697\n",
      "dining         0.118663\n",
      "fine           0.051378\n",
      "continental    0.046509\n",
      "lounge         0.040728\n",
      "finger         0.040524\n",
      "CITY           0.015555\n",
      "bar            0.010349\n",
      "bar            0.008588\n",
      "VOTES          0.007463\n",
      "hyderabadi     0.007380\n",
      "mediterranean  0.005935\n",
      "south          0.004471\n",
      "pizza          0.004239\n",
      "food           0.003180\n",
      "microbrewery   0.002915\n",
      "chinese        0.002293\n",
      "european       0.001919\n",
      "club           0.001456\n",
      "indian         0.001203\n",
      "street         0.001163\n",
      "north          0.001028\n",
      "peruvian       0.000950\n",
      "italian        0.000503\n",
      "mughlai        0.000491\n",
      "salad          0.000453\n",
      "german         0.000408\n",
      "lebanese       0.000127\n",
      "...                 ...\n",
      "greek          0.000000\n",
      "grill          0.000000\n",
      "gujarati       0.000000\n",
      "hawaiian       0.000000\n",
      "hot            0.000000\n",
      "coffee         0.000000\n",
      "dhaba          0.000000\n",
      "ice            0.000000\n",
      "dessert        0.000000\n",
      "indonesian     0.000000\n",
      "iranian        0.000000\n",
      "irish          0.000000\n",
      "fusion         0.000000\n",
      "french         0.000000\n",
      "irani          0.000000\n",
      "fish           0.000000\n",
      "kiosk          0.000000\n",
      "falafel        0.000000\n",
      "meat           0.000000\n",
      "ethiopian      0.000000\n",
      "egyptian       0.000000\n",
      "eastern        0.000000\n",
      "dumplings      0.000000\n",
      "drinks         0.000000\n",
      "dogs           0.000000\n",
      "desserts       0.000000\n",
      "cuisine        0.000000\n",
      "cream          0.000000\n",
      "mess           0.000000\n",
      "wraps          0.000000\n",
      "\n",
      "[171 rows x 1 columns]\n"
     ]
    }
   ],
   "source": [
    "model_dt = DecisionTreeRegressor(max_features=90 , max_depth = 7)\n",
    "\n",
    "model_dt.fit(X_train, Y_train)\n",
    "\n",
    "model_dt.feature_importances_\n",
    "\n",
    "print (pd.DataFrame(model_dt.feature_importances_, columns = [\"Imp\"], index = X_train.columns).sort_values(by = \"Imp\",ascending =False))"
   ]
  },
  {
   "cell_type": "markdown",
   "metadata": {},
   "source": [
    "Random forest Regressor"
   ]
  },
  {
   "cell_type": "code",
   "execution_count": 38,
   "metadata": {},
   "outputs": [
    {
     "name": "stdout",
     "output_type": "stream",
     "text": [
      "n_estimators= 160, max_depth = 8 model_score = 71.81808639818466%\n"
     ]
    }
   ],
   "source": [
    "from sklearn.ensemble import RandomForestRegressor\n",
    "from sklearn.model_selection import KFold\n",
    "from sklearn.model_selection import cross_val_score\n",
    "\n",
    "newdict2 = dict()\n",
    "max_depth_list = list(range(4,9))\n",
    "n_estimators_list = list(range(40,200,40))\n",
    "\n",
    "for d in max_depth_list:\n",
    "     for n in  n_estimators_list:\n",
    "            model_rf = RandomForestRegressor(max_depth=d , n_estimators = n)\n",
    "            kfold = KFold(n_splits = 10)\n",
    "            results = cross_val_score(model_rf, X_train, Y_train, cv=kfold)\n",
    "        \n",
    "            newdict2[\"n_estimators= {}, max_depth = {}\".format(n,d)] = \"model_score = {}%\".format(results.mean()*100.0)\n",
    "            \n",
    "\n",
    "print(max(newdict2,key = newdict2.get),max(newdict2.values()))"
   ]
  },
  {
   "cell_type": "code",
   "execution_count": 39,
   "metadata": {},
   "outputs": [
    {
     "name": "stdout",
     "output_type": "stream",
     "text": [
      "                    Imp\n",
      "fine           0.453183\n",
      "casual         0.089468\n",
      "dining         0.077422\n",
      "lounge         0.057852\n",
      "RATING         0.049350\n",
      "finger         0.038324\n",
      "bar            0.034623\n",
      "CITY           0.027859\n",
      "VOTES          0.024365\n",
      "continental    0.021402\n",
      "café           0.013376\n",
      "club           0.013152\n",
      "pub            0.012613\n",
      "sushi          0.009106\n",
      "chinese        0.007714\n",
      "hyderabadi     0.007292\n",
      "mediterranean  0.006702\n",
      "italian        0.006400\n",
      "european       0.004855\n",
      "south          0.004639\n",
      "indian         0.004308\n",
      "japanese       0.004278\n",
      "north          0.004239\n",
      "food           0.003383\n",
      "bar            0.002828\n",
      "mughlai        0.002576\n",
      "asian          0.002161\n",
      "korean         0.001687\n",
      "seafood        0.001629\n",
      "thai           0.001337\n",
      "...                 ...\n",
      "bubble         0.000000\n",
      "british        0.000000\n",
      "brazilian      0.000000\n",
      "bohri          0.000000\n",
      "bihari         0.000000\n",
      "armenian       0.000000\n",
      "assamese       0.000000\n",
      "australian     0.000000\n",
      "falafel        0.000000\n",
      "afghan         0.000000\n",
      "truck          0.000000\n",
      "fish           0.000000\n",
      "dhaba          0.000000\n",
      "mongolian      0.000000\n",
      "mishti         0.000000\n",
      "meats          0.000000\n",
      "konkan         0.000000\n",
      "meat           0.000000\n",
      "juices         0.000000\n",
      "jewish         0.000000\n",
      "mess           0.000000\n",
      "none           0.000000\n",
      "irish          0.000000\n",
      "iranian        0.000000\n",
      "paan           0.000000\n",
      "ice            0.000000\n",
      "hot            0.000000\n",
      "hawaiian       0.000000\n",
      "fusion         0.000000\n",
      "kiosk          0.000000\n",
      "\n",
      "[171 rows x 1 columns]\n"
     ]
    }
   ],
   "source": [
    "model_rf = RandomForestRegressor(n_estimators= 160 , max_depth = 8)\n",
    "\n",
    "model_rf.fit(X_train, Y_train)\n",
    "\n",
    "model_rf.feature_importances_\n",
    "\n",
    "print (pd.DataFrame(model_rf.feature_importances_, columns = [\"Imp\"], index = X_train.columns).sort_values(by = \"Imp\",ascending =False))"
   ]
  },
  {
   "cell_type": "markdown",
   "metadata": {},
   "source": [
    "Ridge Regression"
   ]
  },
  {
   "cell_type": "code",
   "execution_count": 40,
   "metadata": {},
   "outputs": [
    {
     "name": "stdout",
     "output_type": "stream",
     "text": [
      "model_score: 71.700%\n"
     ]
    }
   ],
   "source": [
    "from sklearn.linear_model import Ridge\n",
    "\n",
    "\n",
    "ridge = Ridge(alpha=.3)\n",
    "ridge = ridge.fit(X_train,Y_train)\n",
    "\n",
    "kfold = KFold(n_splits = 10)\n",
    "results = cross_val_score(model_rf, X_train, Y_train, cv=kfold)\n",
    "\n",
    "print(\"model_score: %.3f%%\" % (results.mean()*100.0))"
   ]
  },
  {
   "cell_type": "code",
   "execution_count": 41,
   "metadata": {},
   "outputs": [
    {
     "name": "stdout",
     "output_type": "stream",
     "text": [
      "ridge model: [ 1.15360426e-01  1.08092327e+02  3.15144028e-02 -7.97596405e+01\n",
      "  5.76319799e+02 -6.10676326e+01  0.00000000e+00 -5.16423793e+01\n",
      "  4.72156773e+02  3.70637440e+01 -2.78937651e+02  1.46323085e+03\n",
      "  1.28726614e+03 -2.27885162e+01  8.81305346e+01 -6.20170826e+01\n",
      " -9.60520227e+01  6.37070673e+02  2.09459896e+03 -5.68997496e+01\n",
      "  4.72156773e+02 -1.73330922e+02  8.79327230e+02 -5.95590865e+01\n",
      " -8.99490440e+01  5.55069048e+02 -7.97757524e+01 -1.36820175e+02\n",
      " -6.20170826e+01  5.99067668e+02 -5.16423793e+01 -1.03665323e+02\n",
      "  5.86513212e+01 -1.80462656e+02  2.20245165e+00  3.65282591e+01\n",
      "  1.01066630e+02 -1.49936241e+02  3.94148333e+01 -7.87779702e+01\n",
      "  6.89687811e+02  2.15088483e+02  1.23175847e+02  5.17593543e+02\n",
      "  3.65877181e+02 -1.95958876e+01  4.36550357e+02  1.33691988e+02\n",
      "  6.22274173e+02  2.50728179e+01 -5.11669982e+01 -3.20241845e+01\n",
      " -3.86705196e+01 -3.30067175e+01  0.00000000e+00  8.51881870e+01\n",
      "  8.60241062e+01  4.53028386e+00  1.27263827e+01  9.96289997e+01\n",
      " -1.47183626e+02  3.10674231e+01  3.08065293e+00 -4.22578357e+01\n",
      " -2.54537874e+01  0.00000000e+00  4.63732344e+01  2.21994086e+02\n",
      " -6.35214661e+01  3.42653074e+01 -1.56850040e+01  1.16632080e+02\n",
      "  2.89811171e+02 -1.51780682e+02  7.73482888e+01  2.87581009e+02\n",
      "  9.35834821e+01  4.69475728e+02  0.00000000e+00 -4.12896112e+01\n",
      "  3.56219024e+02  0.00000000e+00 -2.28671963e+01  3.90265451e+02\n",
      " -7.40005729e+01  5.45081188e+02  1.75123684e+02  6.20660470e-01\n",
      " -2.13230185e-01  9.60910990e+01  0.00000000e+00  8.57344721e+01\n",
      "  1.38943697e+02 -2.52134485e+00 -6.35214661e+01 -7.63007923e+01\n",
      "  7.88527242e+01 -1.08957267e+01 -2.10639550e+02  2.34787828e+02\n",
      "  5.61160135e+02 -3.54521695e-01 -8.09348116e+01  3.87467855e+02\n",
      "  8.38037841e+01 -1.77350348e+02  1.21775010e+02  4.01398362e+02\n",
      "  1.47496622e+02  1.32671130e+01  1.91833953e+02 -1.02892785e+02\n",
      "  5.46224096e+01 -1.24949128e+02  6.80961135e+01  1.67136189e+02\n",
      "  4.00506279e+02  1.65234720e+02  8.53592419e+01 -2.44749410e+01\n",
      "  0.00000000e+00 -1.01223865e+02  4.05931016e+02 -2.09254035e+01\n",
      "  1.56199057e+02 -2.36223052e+02  1.36061867e+02 -1.15813678e+02\n",
      "  9.11498428e+00  2.59797825e+00  1.15974283e+02  2.89811171e+02\n",
      "  6.79117758e+01 -7.19061423e+01 -1.63563479e+02 -1.19434891e+02\n",
      "  2.34787939e+02 -3.57746220e+01  5.13017466e+01  1.05329242e+03\n",
      "  5.82328090e+01 -2.77202243e+02  2.15833299e+02  2.81570459e+01\n",
      "  9.96974775e+01  1.67136189e+02 -7.88793480e+01 -5.78390147e+01\n",
      "  9.20469987e+01  3.35588245e+02 -8.45519880e+01 -1.51780682e+02\n",
      "  1.29250624e+02  1.00255917e+02  3.40434360e+02 -9.88989500e+01\n",
      "  3.82322678e+02  1.47496622e+02  2.43947318e+01 -1.49790770e+02\n",
      "  4.24674541e+02 -1.75315568e-01 -1.14441391e+02  1.65234720e+02\n",
      "  1.54914574e+02 -1.03575285e+02  4.73283178e+01  1.46457625e+02\n",
      " -3.40208941e-01  2.18417320e+02 -3.24154302e+01]\n"
     ]
    }
   ],
   "source": [
    "print (\"ridge model:\", (ridge.coef_))"
   ]
  },
  {
   "cell_type": "markdown",
   "metadata": {},
   "source": [
    "Lasso Regression"
   ]
  },
  {
   "cell_type": "code",
   "execution_count": 42,
   "metadata": {},
   "outputs": [
    {
     "name": "stdout",
     "output_type": "stream",
     "text": [
      "model_score: 71.405%\n"
     ]
    }
   ],
   "source": [
    "from sklearn.linear_model import Lasso\n",
    "\n",
    "lasso = Lasso(alpha=.3)\n",
    "lasso = lasso.fit(X_train,Y_train)\n",
    "\n",
    "kfold = KFold(n_splits = 10)\n",
    "results = cross_val_score(lasso, X_train, Y_train, cv=kfold)\n",
    "\n",
    "print(\"model_score: %.3f%%\" % (results.mean()*100.0))"
   ]
  },
  {
   "cell_type": "code",
   "execution_count": 43,
   "metadata": {},
   "outputs": [
    {
     "name": "stdout",
     "output_type": "stream",
     "text": [
      "lasso model: [ 1.14903529e-01  1.16474325e+02  3.70141585e-02 -3.18536803e+01\n",
      "  6.33696312e+02 -0.00000000e+00  0.00000000e+00 -3.54448991e+01\n",
      "  0.00000000e+00  1.19187763e+02  0.00000000e+00  1.41875061e+03\n",
      "  7.49081383e+02 -0.00000000e+00  2.01412866e+01 -7.42375549e+01\n",
      " -0.00000000e+00  4.35784159e+02  2.24727663e+03  0.00000000e+00\n",
      "  0.00000000e+00 -6.79272054e+01  9.21634028e+02  0.00000000e+00\n",
      " -0.00000000e+00  5.78370906e+02 -2.41199484e+01 -0.00000000e+00\n",
      " -0.00000000e+00  6.30766518e+02 -0.00000000e+00 -1.19943032e+02\n",
      " -0.00000000e+00 -0.00000000e+00 -0.00000000e+00  0.00000000e+00\n",
      "  5.32441227e+01 -0.00000000e+00  0.00000000e+00 -8.79156856e+01\n",
      "  0.00000000e+00  1.94857703e+02  0.00000000e+00  0.00000000e+00\n",
      "  9.75553028e+00 -4.05828025e+01  2.59807889e+02  5.65788603e+01\n",
      "  0.00000000e+00  0.00000000e+00 -6.19902221e+01 -0.00000000e+00\n",
      " -5.32105420e+01 -0.00000000e+00  0.00000000e+00  0.00000000e+00\n",
      "  0.00000000e+00 -0.00000000e+00  0.00000000e+00  1.92541570e+01\n",
      " -0.00000000e+00 -0.00000000e+00 -0.00000000e+00 -0.00000000e+00\n",
      " -4.12267622e+01  0.00000000e+00  0.00000000e+00  1.95196101e+02\n",
      " -1.22014816e+02 -0.00000000e+00 -3.37079561e+01  0.00000000e+00\n",
      "  0.00000000e+00 -0.00000000e+00  0.00000000e+00  0.00000000e+00\n",
      "  0.00000000e+00  4.40559032e+02  0.00000000e+00 -9.56379855e+01\n",
      "  2.96463422e+02  0.00000000e+00 -0.00000000e+00  2.75212238e+01\n",
      " -0.00000000e+00  0.00000000e+00  0.00000000e+00 -0.00000000e+00\n",
      " -0.00000000e+00  0.00000000e+00  0.00000000e+00  1.73160408e+00\n",
      "  0.00000000e+00 -0.00000000e+00 -1.04890669e+00 -0.00000000e+00\n",
      "  0.00000000e+00 -0.00000000e+00 -0.00000000e+00  2.12853335e+02\n",
      "  5.26999583e+02  0.00000000e+00 -6.29056622e+01  0.00000000e+00\n",
      "  2.99054900e+01 -1.93396861e+02  0.00000000e+00  2.08040795e+02\n",
      "  0.00000000e+00 -0.00000000e+00  0.00000000e+00 -4.97277401e+01\n",
      "  0.00000000e+00 -2.80468138e+01  0.00000000e+00  0.00000000e+00\n",
      "  3.32053204e+02  0.00000000e+00  4.34143323e+01  0.00000000e+00\n",
      "  0.00000000e+00 -0.00000000e+00  2.51107682e+02 -3.63768778e+01\n",
      "  0.00000000e+00 -0.00000000e+00  1.02348176e+02 -0.00000000e+00\n",
      " -0.00000000e+00 -0.00000000e+00  0.00000000e+00  0.00000000e+00\n",
      "  0.00000000e+00 -0.00000000e+00 -0.00000000e+00 -0.00000000e+00\n",
      "  0.00000000e+00 -0.00000000e+00  0.00000000e+00  0.00000000e+00\n",
      "  1.43783871e+01 -0.00000000e+00  0.00000000e+00  0.00000000e+00\n",
      "  0.00000000e+00  0.00000000e+00 -0.00000000e+00 -4.63723918e+01\n",
      "  0.00000000e+00  2.77933708e+02 -6.38095454e+01 -0.00000000e+00\n",
      "  8.87410997e+01  0.00000000e+00  0.00000000e+00 -1.79360468e+02\n",
      "  4.69956645e+01  0.00000000e+00  0.00000000e+00 -1.85978932e+02\n",
      "  2.30866899e+02 -0.00000000e+00 -3.37335818e+01  0.00000000e+00\n",
      "  1.16172910e+02 -1.36731730e+00  0.00000000e+00  0.00000000e+00\n",
      "  0.00000000e+00  0.00000000e+00 -0.00000000e+00]\n"
     ]
    }
   ],
   "source": [
    "print (\"lasso model:\", (lasso.coef_))"
   ]
  },
  {
   "cell_type": "markdown",
   "metadata": {},
   "source": [
    "Random forest turned out to be the best regressor"
   ]
  },
  {
   "cell_type": "code",
   "execution_count": 44,
   "metadata": {},
   "outputs": [
    {
     "data": {
      "text/plain": [
       "RandomForestRegressor(max_depth=8, n_estimators=160)"
      ]
     },
     "execution_count": 44,
     "metadata": {},
     "output_type": "execute_result"
    }
   ],
   "source": [
    "model_rf = RandomForestRegressor(n_estimators= 160 , max_depth = 8)\n",
    "\n",
    "model_rf.fit(X_train, Y_train)"
   ]
  },
  {
   "cell_type": "code",
   "execution_count": 45,
   "metadata": {},
   "outputs": [],
   "source": [
    "predictions = model_rf.predict(X_test)"
   ]
  },
  {
   "cell_type": "code",
   "execution_count": 46,
   "metadata": {},
   "outputs": [
    {
     "data": {
      "text/plain": [
       "array([ 606.67885959, 1525.34375511,  607.6688171 , ..., 1603.81522743,\n",
       "        590.96495969,  752.14014737])"
      ]
     },
     "execution_count": 46,
     "metadata": {},
     "output_type": "execute_result"
    }
   ],
   "source": [
    "predictions"
   ]
  },
  {
   "cell_type": "code",
   "execution_count": null,
   "metadata": {},
   "outputs": [],
   "source": []
  }
 ],
 "metadata": {
  "kernelspec": {
   "display_name": "Python 3",
   "language": "python",
   "name": "python3"
  },
  "language_info": {
   "codemirror_mode": {
    "name": "ipython",
    "version": 3
   },
   "file_extension": ".py",
   "mimetype": "text/x-python",
   "name": "python",
   "nbconvert_exporter": "python",
   "pygments_lexer": "ipython3",
   "version": "3.6.4"
  }
 },
 "nbformat": 4,
 "nbformat_minor": 2
}
